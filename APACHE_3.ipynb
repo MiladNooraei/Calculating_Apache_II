{
 "cells": [
  {
   "cell_type": "markdown",
   "metadata": {},
   "source": [
    "**Importing Libraries**"
   ]
  },
  {
   "cell_type": "code",
   "execution_count": 1,
   "metadata": {},
   "outputs": [],
   "source": [
    "import numpy as np\n",
    "import pandas as pd\n",
    "import plotly.express as px"
   ]
  },
  {
   "cell_type": "markdown",
   "metadata": {},
   "source": [
    "**Reading file**"
   ]
  },
  {
   "cell_type": "code",
   "execution_count": 2,
   "metadata": {},
   "outputs": [],
   "source": [
    "pd.set_option(\"display.max_rows\", None)\n",
    "pd.set_option(\"display.max_columns\", None)\n",
    "pd.set_option(\"display.width\", None)\n",
    "\n",
    "apache_df = pd.read_excel(\"INPUT_APACHE.xlsx\")\n",
    "#apache_df.head()"
   ]
  },
  {
   "cell_type": "markdown",
   "metadata": {},
   "source": [
    "**Calculate Age Score**"
   ]
  },
  {
   "cell_type": "code",
   "execution_count": 3,
   "metadata": {},
   "outputs": [],
   "source": [
    "def calculate_age_score(AgeICU):\n",
    "    if np.isnan(AgeICU):\n",
    "        return 0\n",
    "    elif AgeICU < 45:\n",
    "        return 0\n",
    "    elif 45 <= AgeICU < 60:\n",
    "        return 5\n",
    "    elif 60 <= AgeICU < 65:\n",
    "        return 11\n",
    "    elif 65 <= AgeICU < 70:\n",
    "        return 13\n",
    "    elif 70 <= AgeICU < 75:\n",
    "        return 16\n",
    "    elif 75 <= AgeICU < 85:\n",
    "        return 17\n",
    "    else:\n",
    "        return 24"
   ]
  },
  {
   "cell_type": "markdown",
   "metadata": {},
   "source": [
    "**Calculate Chronic Health Evaluation Score**"
   ]
  },
  {
   "cell_type": "code",
   "execution_count": 4,
   "metadata": {},
   "outputs": [],
   "source": [
    "def calculate_chronic_health_evaluation_score(ElectiveSurg, PlannedAdm, ICUSource, AIDS, HepaticFailure, Lymphoma, MetastaticCancer, Leukaemia, ImmunoSuppressed, Cirrhosis):\n",
    "    score_list = [0]\n",
    "    if ElectiveSurg == \"Yes\" and PlannedAdm == \"Yes\" and ICUSource == \"OT/Recovery\":\n",
    "        score_list += [0]\n",
    "    if AIDS == \"Yes\":\n",
    "        score_list += [23]\n",
    "    if HepaticFailure == \"Yes\":\n",
    "        score_list += [16]\n",
    "    if Lymphoma == \"Yes\":\n",
    "        score_list += [13]\n",
    "    if MetastaticCancer == \"Yes\":\n",
    "        score_list += [11]\n",
    "    if Leukaemia == \"Yes\":\n",
    "        score_list += [10]\n",
    "    if ImmunoSuppressed == \"Yes\":\n",
    "        score_list += [10]\n",
    "    if Cirrhosis == \"Yes\":\n",
    "        score_list += [4]\n",
    "    return max(score_list)"
   ]
  },
  {
   "cell_type": "markdown",
   "metadata": {},
   "source": [
    "**Calculate Heart Rate Score**"
   ]
  },
  {
   "cell_type": "code",
   "execution_count": 5,
   "metadata": {},
   "outputs": [],
   "source": [
    "def calculate_heart_rate_score(Herat_Rate):\n",
    "    if np.isnan(Herat_Rate):\n",
    "        return 0\n",
    "    # Low Abnormal Range\n",
    "    elif Herat_Rate < 40:\n",
    "        return 8\n",
    "    elif 40 <= Herat_Rate < 50:\n",
    "        return 5\n",
    "    # Normal Range\n",
    "    elif 50 <= Herat_Rate < 100:\n",
    "        return 0\n",
    "    # High Abnormal Range\n",
    "    elif 100 <= Herat_Rate < 110:\n",
    "        return 1\n",
    "    elif 110 <= Herat_Rate < 120:\n",
    "        return 5\n",
    "    elif 120 <= Herat_Rate < 140:\n",
    "        return 7\n",
    "    elif 140 <= Herat_Rate < 155:\n",
    "        return 13\n",
    "    elif 155 <= Herat_Rate:\n",
    "        return 17"
   ]
  },
  {
   "cell_type": "markdown",
   "metadata": {},
   "source": [
    "**Calculate Mean Arterial Blood Pressure Score**"
   ]
  },
  {
   "cell_type": "code",
   "execution_count": 6,
   "metadata": {},
   "outputs": [],
   "source": [
    "def calculate_mean_arterial_blood_pressure_score(Mean_Arterial_Blood_Pressure):\n",
    "    if np.isnan(Mean_Arterial_Blood_Pressure):\n",
    "        return 0\n",
    "    # Low Abnormal Range\n",
    "    elif Mean_Arterial_Blood_Pressure < 40:\n",
    "        return 23\n",
    "    elif 40 <= Mean_Arterial_Blood_Pressure < 60:\n",
    "        return 15\n",
    "    elif 60 <= Mean_Arterial_Blood_Pressure < 70:\n",
    "        return 7\n",
    "    elif 70 <= Mean_Arterial_Blood_Pressure < 80:\n",
    "        return 6\n",
    "    # Normal Range\n",
    "    elif 80 <= Mean_Arterial_Blood_Pressure < 100:\n",
    "        return 0\n",
    "    # High Abnormal Range\n",
    "    elif 100 <= Mean_Arterial_Blood_Pressure < 120:\n",
    "        return 4\n",
    "    elif 120 <= Mean_Arterial_Blood_Pressure < 130:\n",
    "        return 7\n",
    "    elif 130 <= Mean_Arterial_Blood_Pressure < 140:\n",
    "        return 9\n",
    "    elif 140 <= Mean_Arterial_Blood_Pressure:\n",
    "        return 10"
   ]
  },
  {
   "cell_type": "markdown",
   "metadata": {},
   "source": [
    "**Calculate Temperature Score**"
   ]
  },
  {
   "cell_type": "code",
   "execution_count": 7,
   "metadata": {},
   "outputs": [],
   "source": [
    "def calculate_temperature_score(Core_Temperature):\n",
    "    if np.isnan(Core_Temperature):\n",
    "        return 0\n",
    "    # Low Abnormal Range\n",
    "    elif Core_Temperature < 33:\n",
    "        return 20\n",
    "    elif 33 <= Core_Temperature < 33.5:\n",
    "        return 16\n",
    "    elif 33.5 <= Core_Temperature < 34:\n",
    "        return 13\n",
    "    elif 34 <= Core_Temperature < 35:\n",
    "        return 8\n",
    "    elif 35 <= Core_Temperature < 36:\n",
    "        return 2\n",
    "    # Normal Range\n",
    "    elif 36 <= Core_Temperature < 40:\n",
    "        return 0\n",
    "    # High Abnormal Range\n",
    "    elif 40 <= Core_Temperature:\n",
    "        return 4"
   ]
  },
  {
   "cell_type": "markdown",
   "metadata": {},
   "source": [
    "**Calculate Respiratory Rate Score**"
   ]
  },
  {
   "cell_type": "code",
   "execution_count": 8,
   "metadata": {},
   "outputs": [],
   "source": [
    "def calculate_respiratory_rate_score(Respiratory_Rate):\n",
    "    if np.isnan(Respiratory_Rate):\n",
    "        return 0\n",
    "    # Low Abnormal Range\n",
    "    elif Respiratory_Rate < 6:\n",
    "        return 17\n",
    "    elif 6 <= Respiratory_Rate < 12:\n",
    "        return 8\n",
    "    elif 12 <= Respiratory_Rate < 14:\n",
    "        return 7\n",
    "    # Normal Range\n",
    "    elif 14 <= Respiratory_Rate < 25:\n",
    "        return 0\n",
    "    # High Abnormal Range\n",
    "    elif 25 <= Respiratory_Rate < 35:\n",
    "        return 6\n",
    "    elif 35 <= Respiratory_Rate < 40:\n",
    "        return 9\n",
    "    elif 40 <= Respiratory_Rate < 50:\n",
    "        return 11\n",
    "    elif 50 <= Respiratory_Rate:\n",
    "        return 18"
   ]
  },
  {
   "cell_type": "markdown",
   "metadata": {},
   "source": [
    "**Calculate Hematocrit Score**"
   ]
  },
  {
   "cell_type": "code",
   "execution_count": 9,
   "metadata": {},
   "outputs": [],
   "source": [
    "def calculate_hematocrit_score(Hematocrit):\n",
    "    if np.isnan(Hematocrit):\n",
    "        return 0\n",
    "    # Low Abnormal Range\n",
    "    elif Hematocrit < 0.41:\n",
    "        return 3\n",
    "    # Normal Range\n",
    "    elif 0.41 <= Hematocrit < 0.5:\n",
    "        return 0\n",
    "    # High Abnormal Range\n",
    "    elif 0.5 <= Hematocrit:\n",
    "        return 3"
   ]
  },
  {
   "cell_type": "markdown",
   "metadata": {},
   "source": [
    "**Calculate White Blood Cell Count Score**"
   ]
  },
  {
   "cell_type": "code",
   "execution_count": 10,
   "metadata": {},
   "outputs": [],
   "source": [
    "def calculate_white_blood_cell_count_score(White_Blood_Cell_Count):\n",
    "    if np.isnan(White_Blood_Cell_Count):\n",
    "        return 0\n",
    "    # Low Abnormal Range\n",
    "    elif White_Blood_Cell_Count < 1:\n",
    "        return 19\n",
    "    elif 1 <= White_Blood_Cell_Count < 3:\n",
    "        return 5\n",
    "    # Normal Range\n",
    "    elif 3 <= White_Blood_Cell_Count < 20:\n",
    "        return 0\n",
    "    # High Abnormal Range\n",
    "    elif 20 <= White_Blood_Cell_Count < 25:\n",
    "        return 1\n",
    "    elif 25 <= White_Blood_Cell_Count:\n",
    "        return 5"
   ]
  },
  {
   "cell_type": "markdown",
   "metadata": {},
   "source": [
    "**Calculate Creatinine Score**"
   ]
  },
  {
   "cell_type": "code",
   "execution_count": 11,
   "metadata": {},
   "outputs": [],
   "source": [
    "def calculate_creatinine_score(ARF, Creatinine):\n",
    "    if np.isnan(Creatinine):\n",
    "        return 0\n",
    "    if ARF == \"Yes\":\n",
    "        if 0 <= Creatinine < 1.5:\n",
    "            return 0\n",
    "        elif 1.5 >= Creatinine:\n",
    "            return 10\n",
    "    elif ARF == \"No\":\n",
    "        if Creatinine < 0.5:\n",
    "            return 3\n",
    "        elif 0.5 <= Creatinine < 1.5:\n",
    "            return 0\n",
    "        elif 1.5 <= Creatinine < 1.95:\n",
    "            return 4\n",
    "        elif 1.95 <= Creatinine:\n",
    "            return 7\n",
    "    return 0"
   ]
  },
  {
   "cell_type": "markdown",
   "metadata": {},
   "source": [
    "**Calculate Urine Output Score**"
   ]
  },
  {
   "cell_type": "code",
   "execution_count": 12,
   "metadata": {},
   "outputs": [],
   "source": [
    "def calculate_Urine_Output_score(ChronicRenal, URINEOP):\n",
    "    if ChronicRenal == \"No\":\n",
    "        return 0\n",
    "    elif ChronicRenal == \"Yes\":\n",
    "        if np.isnan(URINEOP):\n",
    "            return 0\n",
    "        # Low Abnormal Range\n",
    "        elif URINEOP < 400:\n",
    "            return 15\n",
    "        elif 400 <= URINEOP < 600:\n",
    "            return 8\n",
    "        elif 600 <= URINEOP < 900:\n",
    "            return 7\n",
    "        elif 900 <= URINEOP < 1500:\n",
    "            return 5\n",
    "        elif 1500 <= URINEOP < 2000:\n",
    "            return 4\n",
    "        # Normal Range\n",
    "        elif 2000 <= URINEOP < 4000:\n",
    "            return 0\n",
    "        # High Abnormal Range\n",
    "        elif 4000 <= URINEOP:\n",
    "            return 1\n",
    "    else:\n",
    "        return 0"
   ]
  },
  {
   "cell_type": "markdown",
   "metadata": {},
   "source": [
    "**Calculate Urea Score**"
   ]
  },
  {
   "cell_type": "code",
   "execution_count": 13,
   "metadata": {},
   "outputs": [],
   "source": [
    "def calculate_Urea_score(UREA):\n",
    "    if np.isnan(UREA):\n",
    "        return 0\n",
    "    # Normal Range\n",
    "    elif UREA < 18:\n",
    "        return 0\n",
    "    # High Abnormal Range\n",
    "    elif 18 <= UREA < 21:\n",
    "        return 2\n",
    "    elif 21 <= UREA < 41:\n",
    "        return 7\n",
    "    elif 41 <= UREA < 81:\n",
    "        return 11\n",
    "    elif 81 <= UREA:\n",
    "        return 12"
   ]
  },
  {
   "cell_type": "markdown",
   "metadata": {},
   "source": [
    "**Calculate Albumin Score**"
   ]
  },
  {
   "cell_type": "code",
   "execution_count": 14,
   "metadata": {},
   "outputs": [],
   "source": [
    "def calculate_Albumin_score(Albumin):\n",
    "    if np.isnan(Albumin):\n",
    "        return 0\n",
    "    # Low Abnormal Range\n",
    "    elif Albumin < 2:\n",
    "        return 11\n",
    "    elif 2 <= Albumin < 2.5:\n",
    "        return 6\n",
    "    # Normal Range\n",
    "    elif 2.5 <= Albumin < 4.5:\n",
    "        return 0\n",
    "    # High Abnormal Range\n",
    "    elif 4.5 <= Albumin:\n",
    "        return 4"
   ]
  },
  {
   "cell_type": "markdown",
   "metadata": {},
   "source": [
    "**Calculate Sodium Score**"
   ]
  },
  {
   "cell_type": "code",
   "execution_count": 15,
   "metadata": {},
   "outputs": [],
   "source": [
    "def calculate_sodium_score(Sodium):\n",
    "    if np.isnan(Sodium):\n",
    "        return 0\n",
    "    # Low Abnormal Range\n",
    "    elif Sodium < 120:\n",
    "        return 3\n",
    "    elif 120 <= Sodium < 135:\n",
    "        return 2\n",
    "    # Normal Range\n",
    "    elif 135 <= Sodium < 155:\n",
    "        return 0\n",
    "    # High Abnormal Range\n",
    "    elif 155 <= Sodium:\n",
    "        return 4"
   ]
  },
  {
   "cell_type": "markdown",
   "metadata": {},
   "source": [
    "**Calculate Bilirubin Score**"
   ]
  },
  {
   "cell_type": "code",
   "execution_count": 16,
   "metadata": {},
   "outputs": [],
   "source": [
    "def calculate_Bilirubin_score(BILI):\n",
    "    if np.isnan(BILI):\n",
    "        return 0\n",
    "    # Normal Range\n",
    "    elif BILI < 2:\n",
    "        return 0\n",
    "    # High Abnormal Range\n",
    "    elif 2 <= BILI < 3:\n",
    "        return 5\n",
    "    elif 3 <= BILI < 5:\n",
    "        return 6\n",
    "    elif 5 <= BILI < 8:\n",
    "        return 8\n",
    "    elif 8 <= BILI:\n",
    "        return 16"
   ]
  },
  {
   "cell_type": "markdown",
   "metadata": {},
   "source": [
    "**Calculate Glucose Score**"
   ]
  },
  {
   "cell_type": "code",
   "execution_count": 17,
   "metadata": {},
   "outputs": [],
   "source": [
    "def calculate_Glucose_score(Glucose):\n",
    "    if np.isnan(Glucose):\n",
    "        return 0\n",
    "    # Low Abnormal Range\n",
    "    elif Glucose < 39:\n",
    "        return 8\n",
    "    elif 39 <= Glucose < 60:\n",
    "        return 9\n",
    "    # Normal Range\n",
    "    elif 60 <= Glucose < 201:\n",
    "        return 0\n",
    "    # High Abnormal Range\n",
    "    elif 201 <= Glucose < 350:\n",
    "        return 3\n",
    "    elif 350 <= Glucose:\n",
    "        return 5"
   ]
  },
  {
   "cell_type": "markdown",
   "metadata": {},
   "source": [
    "**Calculate Arterial Blood Gases Score**"
   ]
  },
  {
   "cell_type": "code",
   "execution_count": 18,
   "metadata": {},
   "outputs": [],
   "source": [
    "def calculate_arterial_blood_gases_score(FIO2, PAO2, PACO2):\n",
    "    if np.isnan(FIO2) or np.isnan(PAO2):\n",
    "        return 0\n",
    "    if FIO2 < 0.5:\n",
    "        if PAO2 < 50:\n",
    "            return 15\n",
    "        elif 50 <= PAO2 < 70:\n",
    "            return 5\n",
    "        elif 70 <= PAO2 < 80:\n",
    "            return 2\n",
    "        elif 80 <= PAO2:\n",
    "            return 0\n",
    "    elif FIO2 >= 0.5:\n",
    "        if np.isnan(PACO2):\n",
    "            return 0\n",
    "        A_a_gradient = (713 * FIO2) - PAO2 - (PACO2 / 0.8)\n",
    "        if A_a_gradient < 100:\n",
    "            return 0\n",
    "        elif 100 <= A_a_gradient < 250:\n",
    "            return 7\n",
    "        elif 250 <= A_a_gradient < 350:\n",
    "            return 9\n",
    "        elif 350 <= A_a_gradient < 500:\n",
    "            return 11\n",
    "        elif 500 <= A_a_gradient:\n",
    "            return 14"
   ]
  },
  {
   "cell_type": "markdown",
   "metadata": {},
   "source": [
    "**Calculate PH Score**"
   ]
  },
  {
   "cell_type": "code",
   "execution_count": 19,
   "metadata": {},
   "outputs": [],
   "source": [
    "def calculate_ph_score(PACO2, PH):\n",
    "    if np.isnan(PH) or np.isnan(PACO2):\n",
    "        return 0\n",
    "    elif PH < 7.2:\n",
    "        if PACO2 < 50:\n",
    "            return 12\n",
    "        elif PACO2 >= 50:\n",
    "            return 4\n",
    "    elif 7.2 <= PH < 7.3:\n",
    "        if PACO2 < 30:\n",
    "            return 9\n",
    "        elif 30 <= PACO2 < 40:\n",
    "            return 6\n",
    "        elif 40 <= PACO2 < 50:\n",
    "            return 3\n",
    "        elif 50 <= PACO2:\n",
    "            return 2\n",
    "    elif 7.3 <= PH < 7.35:\n",
    "        if PACO2 < 30:\n",
    "            return 9\n",
    "        elif 30 <= PACO2 < 45:\n",
    "            return 0\n",
    "        elif 45 <= PACO2:\n",
    "            return 1\n",
    "    elif 7.35 <= PH < 7.45:\n",
    "        if PACO2 < 30:\n",
    "            return 5\n",
    "        elif 30 <= PACO2 < 45:\n",
    "            return 0\n",
    "        elif 45 <= PACO2:\n",
    "            return 1\n",
    "    elif 7.45 <= PH < 7.5:\n",
    "        if PACO2 < 30:\n",
    "            return 5\n",
    "        elif 30 <= PACO2 < 35:\n",
    "            return 0\n",
    "        elif 35 <= PACO2 < 45:\n",
    "            return 2\n",
    "        elif 45 <= PACO2:\n",
    "            return 12\n",
    "    elif 7.5 <= PH < 7.6:\n",
    "        if PACO2 < 40:\n",
    "            return 3\n",
    "        elif PACO2 >= 40:\n",
    "            return 12\n",
    "    elif 7.6 <= PH:\n",
    "        if PACO2 < 25:\n",
    "            return 0\n",
    "        elif 25 <= PACO2 < 40:\n",
    "            return 3\n",
    "        elif 40 <= PACO2:\n",
    "            return 12"
   ]
  },
  {
   "cell_type": "markdown",
   "metadata": {},
   "source": [
    "**Calculate GCS Score**"
   ]
  },
  {
   "cell_type": "code",
   "execution_count": 20,
   "metadata": {},
   "outputs": [],
   "source": [
    "def calculate_gcs_score(GCSEye, GCSVerb, GCSMotor):\n",
    "    if np.isnan(GCSEye) or np.isnan(GCSVerb) or np.isnan(GCSMotor):\n",
    "        return 0\n",
    "    if GCSEye == 1:\n",
    "        if GCSVerb == 1 and GCSMotor == 6:\n",
    "            return 16\n",
    "        elif GCSVerb == 1 and GCSMotor == 5:\n",
    "            return 16\n",
    "        elif GCSMotor == 3 or GCSMotor == 4:\n",
    "            if GCSVerb == 1:\n",
    "                return 33\n",
    "            elif GCSVerb == 2 or GCSVerb == 3:\n",
    "                return 24\n",
    "        elif GCSMotor == 1 or GCSMotor == 2:\n",
    "            if GCSVerb == 1:\n",
    "                return 48\n",
    "            elif GCSVerb == 2 or GCSVerb == 3:\n",
    "                return 29\n",
    "        else:\n",
    "            return \"GCS Error!\"\n",
    "    elif GCSEye == 2 or GCSEye == 3 or GCSEye == 4:\n",
    "        if GCSMotor == 6:\n",
    "            if GCSVerb == 5:\n",
    "                return 0\n",
    "            elif GCSVerb == 4:\n",
    "                return 3\n",
    "            elif GCSVerb == 3 or GCSVerb == 2:\n",
    "                return 10\n",
    "            elif GCSVerb == 1:\n",
    "                return 15\n",
    "            else:\n",
    "                return \"GCS Error!\"\n",
    "        elif GCSMotor == 5:\n",
    "            if GCSVerb == 5:\n",
    "                return 3\n",
    "            elif GCSVerb == 4:\n",
    "                return 8\n",
    "            elif GCSVerb == 3 or GCSVerb == 2:\n",
    "                return 13\n",
    "            elif GCSVerb == 1:\n",
    "                return 15\n",
    "            else:\n",
    "                return \"GCS Error!\"\n",
    "        elif GCSMotor == 4 or GCSMotor == 3:\n",
    "            if GCSVerb == 5:\n",
    "                return 3\n",
    "            elif GCSVerb == 4:\n",
    "                return 13\n",
    "            elif GCSVerb == 3 or GCSVerb == 2:\n",
    "                return 24\n",
    "            elif GCSVerb == 1:\n",
    "                return 24\n",
    "            else:\n",
    "                return \"GCS Error!\"\n",
    "        elif GCSMotor == 2 or GCSMotor == 1:\n",
    "            if GCSVerb == 5:\n",
    "                return 3\n",
    "            elif GCSVerb == 4:\n",
    "                return 13\n",
    "            elif GCSVerb == 3 or GCSVerb == 2:\n",
    "                return 29\n",
    "            elif GCSVerb == 1:\n",
    "                return 29\n",
    "            else:\n",
    "                return \"GCS Error!\"\n",
    "        else:\n",
    "            return \"GCS Error!\""
   ]
  },
  {
   "cell_type": "markdown",
   "metadata": {},
   "source": [
    "**Reading each row to get each patients records and calculate Apache III score**"
   ]
  },
  {
   "cell_type": "code",
   "execution_count": 21,
   "metadata": {},
   "outputs": [],
   "source": [
    "rows_list = apache_df.values.tolist()\n",
    "Apache_III_List, Missed_Data = [], []\n",
    "\n",
    "for patient in rows_list:\n",
    "    # Calculating APACHE III J Score\n",
    "    Age_score = calculate_age_score(patient[5])\n",
    "    Chronic_condition_score = calculate_chronic_health_evaluation_score(patient[50], patient[51], patient[27], patient[77], patient[78], patient[79], patient[80], patient[81], patient[76], patient[73])   \n",
    "    Heart_Rate_score = max(calculate_heart_rate_score(patient[115]), calculate_heart_rate_score(patient[116]))\n",
    "    Mean_Arterial_Blood_Pressure_score = max(calculate_mean_arterial_blood_pressure_score(patient[120]), calculate_mean_arterial_blood_pressure_score(patient[121]))\n",
    "    Temperature_score = max(calculate_temperature_score(patient[130]), calculate_temperature_score(patient[131]))\n",
    "    Respiratory_Rate_score = max(calculate_respiratory_rate_score(patient[124]), calculate_respiratory_rate_score(patient[126]))\n",
    "    Hematocrit_score = max(calculate_hematocrit_score(patient[111]), calculate_hematocrit_score(patient[112]))\n",
    "    White_Blood_Cell_Count_score = max(calculate_white_blood_cell_count_score(patient[135]), calculate_white_blood_cell_count_score(patient[136]))\n",
    "    Creatinine_score = max(calculate_creatinine_score(patient[70], patient[99]), calculate_creatinine_score(patient[70], patient[100]))\n",
    "    Urine_Output_score = calculate_Urine_Output_score(patient[74], patient[137])\n",
    "    Urea_score = calculate_Urea_score(patient[134])\n",
    "    Albumin_score = max(calculate_Albumin_score(patient[96]), calculate_Albumin_score(patient[97]))\n",
    "    Sodium_score = max(calculate_sodium_score(patient[121]), calculate_sodium_score(patient[122]))\n",
    "    Bilirubin_score = calculate_Bilirubin_score(patient[98])\n",
    "    Glucose_score = max(calculate_Glucose_score(patient[107]), calculate_Glucose_score(patient[108]))\n",
    "    Arterial_Blood_Gases_score = calculate_arterial_blood_gases_score(patient[103], patient[104], patient[105])\n",
    "    PH_score = calculate_ph_score(patient[105], patient[106])\n",
    "    GCS_score = calculate_gcs_score(patient[61], patient[62], patient[63])\n",
    "\n",
    "    if GCS_score == \"GCS Error!\":\n",
    "        Apache_III_List += [\"GCS Error!\"]\n",
    "    else:\n",
    "        Final_Apache_III_Score = Age_score + Chronic_condition_score + Heart_Rate_score + Mean_Arterial_Blood_Pressure_score + Temperature_score + Respiratory_Rate_score + Hematocrit_score + White_Blood_Cell_Count_score + Creatinine_score + Urine_Output_score + Urea_score + Albumin_score + Sodium_score + Bilirubin_score + Glucose_score + Arterial_Blood_Gases_score + PH_score + GCS_score\n",
    "        Apache_III_List += [Final_Apache_III_Score]\n",
    "\n",
    "    # Calculating Missing Data\n",
    "    nan_counter = 0\n",
    "    if np.isnan(patient[5]):\n",
    "        nan_counter += 1\n",
    "    for i in [50, 51, 27, 77, 78, 79, 80, 81, 76, 73]:\n",
    "        if patient[i] != \"Yes\" or \"No\":\n",
    "            nan_counter += 1  \n",
    "            break\n",
    "    if np.isnan(patient[115]) and np.isnan(patient[116]):\n",
    "        nan_counter += 1   \n",
    "    if np.isnan(patient[120]) and np.isnan(patient[121]):\n",
    "        nan_counter += 1\n",
    "    if np.isnan(patient[130]) and np.isnan(patient[131]):\n",
    "        nan_counter += 1\n",
    "    if np.isnan(patient[124]) and np.isnan(patient[126]):\n",
    "        nan_counter += 1\n",
    "    if np.isnan(patient[111]) and np.isnan(patient[112]):\n",
    "        nan_counter += 1\n",
    "    if np.isnan(patient[135]) and np.isnan(patient[136]):\n",
    "        nan_counter += 1\n",
    "    if (patient[70] != \"Yes\" and patient[70] != \"No\") or (np.isnan(patient[99]) and np.isnan(patient[100])):\n",
    "        nan_counter += 1\n",
    "    if (patient[74] != \"Yes\" and patient[74] != \"No\") or (patient[74] == \"Yes\" and np.isnan(patient[137])):\n",
    "        nan_counter += 1\n",
    "    if np.isnan(patient[134]):\n",
    "        nan_counter += 1\n",
    "    if np.isnan(patient[96]) and np.isnan(patient[97]):\n",
    "        nan_counter += 1\n",
    "    if np.isnan(patient[121]) and np.isnan(patient[122]):\n",
    "        nan_counter += 1\n",
    "    if np.isnan(patient[98]):\n",
    "        nan_counter += 1\n",
    "    if np.isnan(patient[107]) and np.isnan(patient[108]):\n",
    "        nan_counter += 1\n",
    "    if np.isnan(patient[103]) or np.isnan(patient[104]) or (patient[103] >= 0.5 and np.isnan(patient[105])):\n",
    "        nan_counter += 1\n",
    "    if np.isnan(patient[106]):\n",
    "        nan_counter += 1\n",
    "    if np.isnan(patient[61]) or np.isnan(patient[62]) or np.isnan(patient[63]):\n",
    "        nan_counter += 1\n",
    "    \n",
    "    missed_data_percentage = round((nan_counter / 18) * 100, 2)\n",
    "    Missed_Data += [str(missed_data_percentage) + \"%\"]"
   ]
  },
  {
   "cell_type": "markdown",
   "metadata": {},
   "source": [
    "**Finalize the dataframe and convert it to an Excel file**"
   ]
  },
  {
   "cell_type": "code",
   "execution_count": 22,
   "metadata": {},
   "outputs": [],
   "source": [
    "apache_df[\"APACHE III J Score\"] = Apache_III_List\n",
    "apache_df[\"Percentage of missing data\"] = Missed_Data\n",
    "apache_df.to_excel(\"Output Apache III J Score.xlsx\", index = False)"
   ]
  },
  {
   "cell_type": "markdown",
   "metadata": {},
   "source": [
    "**Histogram based on APACHE II Score**"
   ]
  },
  {
   "cell_type": "code",
   "execution_count": 23,
   "metadata": {},
   "outputs": [
    {
     "name": "stdout",
     "output_type": "stream",
     "text": [
      "Initial number of rows: 100\n",
      "Number of rows after removing rows: 99\n"
     ]
    },
    {
     "data": {
      "application/vnd.plotly.v1+json": {
       "config": {
        "plotlyServerURL": "https://plot.ly"
       },
       "data": [
        {
         "alignmentgroup": "True",
         "bingroup": "x",
         "hovertemplate": "APACHE III J Score=%{x}<br>count=%{y}<extra></extra>",
         "legendgroup": "",
         "marker": {
          "color": "#636efa",
          "line": {
           "color": "black",
           "width": 1
          },
          "pattern": {
           "shape": ""
          }
         },
         "name": "",
         "nbinsx": 20,
         "offsetgroup": "",
         "opacity": 0.7,
         "orientation": "v",
         "showlegend": false,
         "type": "histogram",
         "x": [
          17,
          11,
          22,
          14,
          41,
          37,
          27,
          28,
          59,
          29,
          33,
          53,
          36,
          52,
          31,
          61,
          18,
          24,
          50,
          43,
          38,
          21,
          43,
          54,
          62,
          47,
          59,
          42,
          34,
          13,
          21,
          39,
          28,
          24,
          33,
          60,
          37,
          29,
          39,
          20,
          38,
          19,
          23,
          35,
          16,
          26,
          17,
          39,
          34,
          15,
          26,
          9,
          22,
          21,
          20,
          32,
          41,
          25,
          33,
          42,
          53,
          24,
          20,
          13,
          6,
          19,
          18,
          77,
          47,
          18,
          51,
          50,
          56,
          20,
          36,
          35,
          20,
          52,
          26,
          23,
          47,
          29,
          25,
          25,
          63,
          54,
          17,
          41,
          24,
          29,
          47,
          37,
          34,
          45,
          34,
          44,
          45,
          74,
          53
         ],
         "xaxis": "x",
         "yaxis": "y"
        }
       ],
       "layout": {
        "barmode": "relative",
        "legend": {
         "tracegroupgap": 0
        },
        "margin": {
         "t": 60
        },
        "template": {
         "data": {
          "bar": [
           {
            "error_x": {
             "color": "#2a3f5f"
            },
            "error_y": {
             "color": "#2a3f5f"
            },
            "marker": {
             "line": {
              "color": "#E5ECF6",
              "width": 0.5
             },
             "pattern": {
              "fillmode": "overlay",
              "size": 10,
              "solidity": 0.2
             }
            },
            "type": "bar"
           }
          ],
          "barpolar": [
           {
            "marker": {
             "line": {
              "color": "#E5ECF6",
              "width": 0.5
             },
             "pattern": {
              "fillmode": "overlay",
              "size": 10,
              "solidity": 0.2
             }
            },
            "type": "barpolar"
           }
          ],
          "carpet": [
           {
            "aaxis": {
             "endlinecolor": "#2a3f5f",
             "gridcolor": "white",
             "linecolor": "white",
             "minorgridcolor": "white",
             "startlinecolor": "#2a3f5f"
            },
            "baxis": {
             "endlinecolor": "#2a3f5f",
             "gridcolor": "white",
             "linecolor": "white",
             "minorgridcolor": "white",
             "startlinecolor": "#2a3f5f"
            },
            "type": "carpet"
           }
          ],
          "choropleth": [
           {
            "colorbar": {
             "outlinewidth": 0,
             "ticks": ""
            },
            "type": "choropleth"
           }
          ],
          "contour": [
           {
            "colorbar": {
             "outlinewidth": 0,
             "ticks": ""
            },
            "colorscale": [
             [
              0,
              "#0d0887"
             ],
             [
              0.1111111111111111,
              "#46039f"
             ],
             [
              0.2222222222222222,
              "#7201a8"
             ],
             [
              0.3333333333333333,
              "#9c179e"
             ],
             [
              0.4444444444444444,
              "#bd3786"
             ],
             [
              0.5555555555555556,
              "#d8576b"
             ],
             [
              0.6666666666666666,
              "#ed7953"
             ],
             [
              0.7777777777777778,
              "#fb9f3a"
             ],
             [
              0.8888888888888888,
              "#fdca26"
             ],
             [
              1,
              "#f0f921"
             ]
            ],
            "type": "contour"
           }
          ],
          "contourcarpet": [
           {
            "colorbar": {
             "outlinewidth": 0,
             "ticks": ""
            },
            "type": "contourcarpet"
           }
          ],
          "heatmap": [
           {
            "colorbar": {
             "outlinewidth": 0,
             "ticks": ""
            },
            "colorscale": [
             [
              0,
              "#0d0887"
             ],
             [
              0.1111111111111111,
              "#46039f"
             ],
             [
              0.2222222222222222,
              "#7201a8"
             ],
             [
              0.3333333333333333,
              "#9c179e"
             ],
             [
              0.4444444444444444,
              "#bd3786"
             ],
             [
              0.5555555555555556,
              "#d8576b"
             ],
             [
              0.6666666666666666,
              "#ed7953"
             ],
             [
              0.7777777777777778,
              "#fb9f3a"
             ],
             [
              0.8888888888888888,
              "#fdca26"
             ],
             [
              1,
              "#f0f921"
             ]
            ],
            "type": "heatmap"
           }
          ],
          "heatmapgl": [
           {
            "colorbar": {
             "outlinewidth": 0,
             "ticks": ""
            },
            "colorscale": [
             [
              0,
              "#0d0887"
             ],
             [
              0.1111111111111111,
              "#46039f"
             ],
             [
              0.2222222222222222,
              "#7201a8"
             ],
             [
              0.3333333333333333,
              "#9c179e"
             ],
             [
              0.4444444444444444,
              "#bd3786"
             ],
             [
              0.5555555555555556,
              "#d8576b"
             ],
             [
              0.6666666666666666,
              "#ed7953"
             ],
             [
              0.7777777777777778,
              "#fb9f3a"
             ],
             [
              0.8888888888888888,
              "#fdca26"
             ],
             [
              1,
              "#f0f921"
             ]
            ],
            "type": "heatmapgl"
           }
          ],
          "histogram": [
           {
            "marker": {
             "pattern": {
              "fillmode": "overlay",
              "size": 10,
              "solidity": 0.2
             }
            },
            "type": "histogram"
           }
          ],
          "histogram2d": [
           {
            "colorbar": {
             "outlinewidth": 0,
             "ticks": ""
            },
            "colorscale": [
             [
              0,
              "#0d0887"
             ],
             [
              0.1111111111111111,
              "#46039f"
             ],
             [
              0.2222222222222222,
              "#7201a8"
             ],
             [
              0.3333333333333333,
              "#9c179e"
             ],
             [
              0.4444444444444444,
              "#bd3786"
             ],
             [
              0.5555555555555556,
              "#d8576b"
             ],
             [
              0.6666666666666666,
              "#ed7953"
             ],
             [
              0.7777777777777778,
              "#fb9f3a"
             ],
             [
              0.8888888888888888,
              "#fdca26"
             ],
             [
              1,
              "#f0f921"
             ]
            ],
            "type": "histogram2d"
           }
          ],
          "histogram2dcontour": [
           {
            "colorbar": {
             "outlinewidth": 0,
             "ticks": ""
            },
            "colorscale": [
             [
              0,
              "#0d0887"
             ],
             [
              0.1111111111111111,
              "#46039f"
             ],
             [
              0.2222222222222222,
              "#7201a8"
             ],
             [
              0.3333333333333333,
              "#9c179e"
             ],
             [
              0.4444444444444444,
              "#bd3786"
             ],
             [
              0.5555555555555556,
              "#d8576b"
             ],
             [
              0.6666666666666666,
              "#ed7953"
             ],
             [
              0.7777777777777778,
              "#fb9f3a"
             ],
             [
              0.8888888888888888,
              "#fdca26"
             ],
             [
              1,
              "#f0f921"
             ]
            ],
            "type": "histogram2dcontour"
           }
          ],
          "mesh3d": [
           {
            "colorbar": {
             "outlinewidth": 0,
             "ticks": ""
            },
            "type": "mesh3d"
           }
          ],
          "parcoords": [
           {
            "line": {
             "colorbar": {
              "outlinewidth": 0,
              "ticks": ""
             }
            },
            "type": "parcoords"
           }
          ],
          "pie": [
           {
            "automargin": true,
            "type": "pie"
           }
          ],
          "scatter": [
           {
            "fillpattern": {
             "fillmode": "overlay",
             "size": 10,
             "solidity": 0.2
            },
            "type": "scatter"
           }
          ],
          "scatter3d": [
           {
            "line": {
             "colorbar": {
              "outlinewidth": 0,
              "ticks": ""
             }
            },
            "marker": {
             "colorbar": {
              "outlinewidth": 0,
              "ticks": ""
             }
            },
            "type": "scatter3d"
           }
          ],
          "scattercarpet": [
           {
            "marker": {
             "colorbar": {
              "outlinewidth": 0,
              "ticks": ""
             }
            },
            "type": "scattercarpet"
           }
          ],
          "scattergeo": [
           {
            "marker": {
             "colorbar": {
              "outlinewidth": 0,
              "ticks": ""
             }
            },
            "type": "scattergeo"
           }
          ],
          "scattergl": [
           {
            "marker": {
             "colorbar": {
              "outlinewidth": 0,
              "ticks": ""
             }
            },
            "type": "scattergl"
           }
          ],
          "scattermapbox": [
           {
            "marker": {
             "colorbar": {
              "outlinewidth": 0,
              "ticks": ""
             }
            },
            "type": "scattermapbox"
           }
          ],
          "scatterpolar": [
           {
            "marker": {
             "colorbar": {
              "outlinewidth": 0,
              "ticks": ""
             }
            },
            "type": "scatterpolar"
           }
          ],
          "scatterpolargl": [
           {
            "marker": {
             "colorbar": {
              "outlinewidth": 0,
              "ticks": ""
             }
            },
            "type": "scatterpolargl"
           }
          ],
          "scatterternary": [
           {
            "marker": {
             "colorbar": {
              "outlinewidth": 0,
              "ticks": ""
             }
            },
            "type": "scatterternary"
           }
          ],
          "surface": [
           {
            "colorbar": {
             "outlinewidth": 0,
             "ticks": ""
            },
            "colorscale": [
             [
              0,
              "#0d0887"
             ],
             [
              0.1111111111111111,
              "#46039f"
             ],
             [
              0.2222222222222222,
              "#7201a8"
             ],
             [
              0.3333333333333333,
              "#9c179e"
             ],
             [
              0.4444444444444444,
              "#bd3786"
             ],
             [
              0.5555555555555556,
              "#d8576b"
             ],
             [
              0.6666666666666666,
              "#ed7953"
             ],
             [
              0.7777777777777778,
              "#fb9f3a"
             ],
             [
              0.8888888888888888,
              "#fdca26"
             ],
             [
              1,
              "#f0f921"
             ]
            ],
            "type": "surface"
           }
          ],
          "table": [
           {
            "cells": {
             "fill": {
              "color": "#EBF0F8"
             },
             "line": {
              "color": "white"
             }
            },
            "header": {
             "fill": {
              "color": "#C8D4E3"
             },
             "line": {
              "color": "white"
             }
            },
            "type": "table"
           }
          ]
         },
         "layout": {
          "annotationdefaults": {
           "arrowcolor": "#2a3f5f",
           "arrowhead": 0,
           "arrowwidth": 1
          },
          "autotypenumbers": "strict",
          "coloraxis": {
           "colorbar": {
            "outlinewidth": 0,
            "ticks": ""
           }
          },
          "colorscale": {
           "diverging": [
            [
             0,
             "#8e0152"
            ],
            [
             0.1,
             "#c51b7d"
            ],
            [
             0.2,
             "#de77ae"
            ],
            [
             0.3,
             "#f1b6da"
            ],
            [
             0.4,
             "#fde0ef"
            ],
            [
             0.5,
             "#f7f7f7"
            ],
            [
             0.6,
             "#e6f5d0"
            ],
            [
             0.7,
             "#b8e186"
            ],
            [
             0.8,
             "#7fbc41"
            ],
            [
             0.9,
             "#4d9221"
            ],
            [
             1,
             "#276419"
            ]
           ],
           "sequential": [
            [
             0,
             "#0d0887"
            ],
            [
             0.1111111111111111,
             "#46039f"
            ],
            [
             0.2222222222222222,
             "#7201a8"
            ],
            [
             0.3333333333333333,
             "#9c179e"
            ],
            [
             0.4444444444444444,
             "#bd3786"
            ],
            [
             0.5555555555555556,
             "#d8576b"
            ],
            [
             0.6666666666666666,
             "#ed7953"
            ],
            [
             0.7777777777777778,
             "#fb9f3a"
            ],
            [
             0.8888888888888888,
             "#fdca26"
            ],
            [
             1,
             "#f0f921"
            ]
           ],
           "sequentialminus": [
            [
             0,
             "#0d0887"
            ],
            [
             0.1111111111111111,
             "#46039f"
            ],
            [
             0.2222222222222222,
             "#7201a8"
            ],
            [
             0.3333333333333333,
             "#9c179e"
            ],
            [
             0.4444444444444444,
             "#bd3786"
            ],
            [
             0.5555555555555556,
             "#d8576b"
            ],
            [
             0.6666666666666666,
             "#ed7953"
            ],
            [
             0.7777777777777778,
             "#fb9f3a"
            ],
            [
             0.8888888888888888,
             "#fdca26"
            ],
            [
             1,
             "#f0f921"
            ]
           ]
          },
          "colorway": [
           "#636efa",
           "#EF553B",
           "#00cc96",
           "#ab63fa",
           "#FFA15A",
           "#19d3f3",
           "#FF6692",
           "#B6E880",
           "#FF97FF",
           "#FECB52"
          ],
          "font": {
           "color": "#2a3f5f"
          },
          "geo": {
           "bgcolor": "white",
           "lakecolor": "white",
           "landcolor": "#E5ECF6",
           "showlakes": true,
           "showland": true,
           "subunitcolor": "white"
          },
          "hoverlabel": {
           "align": "left"
          },
          "hovermode": "closest",
          "mapbox": {
           "style": "light"
          },
          "paper_bgcolor": "white",
          "plot_bgcolor": "#E5ECF6",
          "polar": {
           "angularaxis": {
            "gridcolor": "white",
            "linecolor": "white",
            "ticks": ""
           },
           "bgcolor": "#E5ECF6",
           "radialaxis": {
            "gridcolor": "white",
            "linecolor": "white",
            "ticks": ""
           }
          },
          "scene": {
           "xaxis": {
            "backgroundcolor": "#E5ECF6",
            "gridcolor": "white",
            "gridwidth": 2,
            "linecolor": "white",
            "showbackground": true,
            "ticks": "",
            "zerolinecolor": "white"
           },
           "yaxis": {
            "backgroundcolor": "#E5ECF6",
            "gridcolor": "white",
            "gridwidth": 2,
            "linecolor": "white",
            "showbackground": true,
            "ticks": "",
            "zerolinecolor": "white"
           },
           "zaxis": {
            "backgroundcolor": "#E5ECF6",
            "gridcolor": "white",
            "gridwidth": 2,
            "linecolor": "white",
            "showbackground": true,
            "ticks": "",
            "zerolinecolor": "white"
           }
          },
          "shapedefaults": {
           "line": {
            "color": "#2a3f5f"
           }
          },
          "ternary": {
           "aaxis": {
            "gridcolor": "white",
            "linecolor": "white",
            "ticks": ""
           },
           "baxis": {
            "gridcolor": "white",
            "linecolor": "white",
            "ticks": ""
           },
           "bgcolor": "#E5ECF6",
           "caxis": {
            "gridcolor": "white",
            "linecolor": "white",
            "ticks": ""
           }
          },
          "title": {
           "x": 0.05
          },
          "xaxis": {
           "automargin": true,
           "gridcolor": "white",
           "linecolor": "white",
           "ticks": "",
           "title": {
            "standoff": 15
           },
           "zerolinecolor": "white",
           "zerolinewidth": 2
          },
          "yaxis": {
           "automargin": true,
           "gridcolor": "white",
           "linecolor": "white",
           "ticks": "",
           "title": {
            "standoff": 15
           },
           "zerolinecolor": "white",
           "zerolinewidth": 2
          }
         }
        },
        "title": {
         "text": "<b>APACHE III J Score Histogram</b>",
         "x": 0.5,
         "xanchor": "center",
         "y": 0.95,
         "yanchor": "top"
        },
        "xaxis": {
         "anchor": "y",
         "domain": [
          0,
          1
         ],
         "title": {
          "text": "APACHE III J Score"
         }
        },
        "yaxis": {
         "anchor": "x",
         "domain": [
          0,
          1
         ],
         "title": {
          "text": "Number of Patients"
         }
        }
       }
      }
     },
     "metadata": {},
     "output_type": "display_data"
    }
   ],
   "source": [
    "apache_df_copy = apache_df.copy()\n",
    "print(\"Initial number of rows:\", len(apache_df_copy))\n",
    "apache_df_copy = apache_df_copy[apache_df_copy[\"APACHE III J Score\"] != \"GCS Error!\"]\n",
    "print(\"Number of rows after removing rows:\", len(apache_df_copy))\n",
    "\n",
    "fig = px.histogram(apache_df_copy, x = \"APACHE III J Score\", nbins = 20)\n",
    "fig.update_traces(marker_line_color = \"black\", marker_line_width = 1, opacity = 0.7)\n",
    "fig.update_layout(yaxis_title = \"Number of Patients\")\n",
    "fig.update_layout(title = {\"text\" : \"<b>APACHE III J Score Histogram</b>\", \"x\" : 0.5, \"y\" : 0.95, \"xanchor\" : \"center\", \"yanchor\" : \"top\"})\n",
    "fig.show()"
   ]
  }
 ],
 "metadata": {
  "kernelspec": {
   "display_name": "qenv",
   "language": "python",
   "name": "qenv"
  },
  "language_info": {
   "codemirror_mode": {
    "name": "ipython",
    "version": 3
   },
   "file_extension": ".py",
   "mimetype": "text/x-python",
   "name": "python",
   "nbconvert_exporter": "python",
   "pygments_lexer": "ipython3",
   "version": "3.9.6"
  },
  "orig_nbformat": 4
 },
 "nbformat": 4,
 "nbformat_minor": 2
}
