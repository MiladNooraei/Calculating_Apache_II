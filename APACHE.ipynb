{
 "cells": [
  {
   "cell_type": "markdown",
   "metadata": {},
   "source": [
    "**Importing Libraries**"
   ]
  },
  {
   "cell_type": "code",
   "execution_count": 1,
   "metadata": {},
   "outputs": [],
   "source": [
    "import math\n",
    "import numpy as np\n",
    "import pandas as pd\n",
    "import plotly.express as px"
   ]
  },
  {
   "cell_type": "markdown",
   "metadata": {},
   "source": [
    "**Reading file**"
   ]
  },
  {
   "cell_type": "code",
   "execution_count": 2,
   "metadata": {},
   "outputs": [
    {
     "data": {
      "text/html": [
       "<div>\n",
       "<style scoped>\n",
       "    .dataframe tbody tr th:only-of-type {\n",
       "        vertical-align: middle;\n",
       "    }\n",
       "\n",
       "    .dataframe tbody tr th {\n",
       "        vertical-align: top;\n",
       "    }\n",
       "\n",
       "    .dataframe thead th {\n",
       "        text-align: right;\n",
       "    }\n",
       "</style>\n",
       "<table border=\"1\" class=\"dataframe\">\n",
       "  <thead>\n",
       "    <tr style=\"text-align: right;\">\n",
       "      <th></th>\n",
       "      <th>Row_Index</th>\n",
       "      <th>Patient_Identifier</th>\n",
       "      <th>National_Code</th>\n",
       "      <th>Age</th>\n",
       "      <th>Immune_Disease_1</th>\n",
       "      <th>Immunosuppressed_1</th>\n",
       "      <th>Cirrhosis_Chronic_liver_failure_1</th>\n",
       "      <th>Chronic_respiratory_1</th>\n",
       "      <th>Chronic_Cardiovascular_1</th>\n",
       "      <th>Chronic_Renal_failure_1</th>\n",
       "      <th>ICU_Admission_Date_1_1</th>\n",
       "      <th>ICU_Name_1_1</th>\n",
       "      <th>Elective_Surgery_1_1</th>\n",
       "      <th>Diagnosis_Type_1_1</th>\n",
       "      <th>Core_Temperature_Hi_1_1</th>\n",
       "      <th>Core_Temperature_Low_1_1</th>\n",
       "      <th>Heart_Rate_Hi_1_1</th>\n",
       "      <th>Heart_Rate_Low_1_1</th>\n",
       "      <th>Systolic_Hi_1_1</th>\n",
       "      <th>Systolic_Low_1_1</th>\n",
       "      <th>Diastolic_Hi_1_1</th>\n",
       "      <th>Diastolic_Low_1_1</th>\n",
       "      <th>Mean_Arterial_Blood_Pressure_Hi_1_1</th>\n",
       "      <th>Mean_Arterial_Blood_Pressure_Low_1_1</th>\n",
       "      <th>Respiratory_Rate_Hi_1_1</th>\n",
       "      <th>Respiratory_Rate_Low_1_1</th>\n",
       "      <th>Sodium_Hi_1_1</th>\n",
       "      <th>Sodium_Low_1_1</th>\n",
       "      <th>Potassium_Hi_1_1</th>\n",
       "      <th>Potassium_Low_1_1</th>\n",
       "      <th>Bicarbonate_Hi_1_1</th>\n",
       "      <th>Bicarbonate_Low_1_1</th>\n",
       "      <th>Creatinine_Hi_1_1</th>\n",
       "      <th>Creatinine_Low_1_1</th>\n",
       "      <th>Acute_Renal_Failure_Status_1_1</th>\n",
       "      <th>Hematocrit_Hi_1_1</th>\n",
       "      <th>Hematocrit_Low_1_1</th>\n",
       "      <th>White_Blood_Cell_Count_Hi_1_1</th>\n",
       "      <th>White_Blood_Cell_Count_Low_1_1</th>\n",
       "      <th>FiO2_1_1_1</th>\n",
       "      <th>paO2_1_1_1</th>\n",
       "      <th>paCO2_1_1_1</th>\n",
       "      <th>pH_1_1_1</th>\n",
       "      <th>GCS_Admission_Eye_1_1</th>\n",
       "      <th>GCS_Admission_Motor_1_1</th>\n",
       "      <th>GCS_Admission_Verbal_1_1</th>\n",
       "      <th>GCS_Admission_Verbal_Intubated_1_1</th>\n",
       "    </tr>\n",
       "  </thead>\n",
       "  <tbody>\n",
       "    <tr>\n",
       "      <th>0</th>\n",
       "      <td>1</td>\n",
       "      <td>9918788</td>\n",
       "      <td>5.489981e+09</td>\n",
       "      <td>35</td>\n",
       "      <td>2.0</td>\n",
       "      <td>2.0</td>\n",
       "      <td>2.0</td>\n",
       "      <td>2.0</td>\n",
       "      <td>2.0</td>\n",
       "      <td>2.0</td>\n",
       "      <td>2020-10-04</td>\n",
       "      <td>4</td>\n",
       "      <td>2.0</td>\n",
       "      <td>2.0</td>\n",
       "      <td>NaN</td>\n",
       "      <td>NaN</td>\n",
       "      <td>NaN</td>\n",
       "      <td>NaN</td>\n",
       "      <td>NaN</td>\n",
       "      <td>NaN</td>\n",
       "      <td>NaN</td>\n",
       "      <td>NaN</td>\n",
       "      <td>NaN</td>\n",
       "      <td>NaN</td>\n",
       "      <td>NaN</td>\n",
       "      <td>NaN</td>\n",
       "      <td>NaN</td>\n",
       "      <td>NaN</td>\n",
       "      <td>NaN</td>\n",
       "      <td>NaN</td>\n",
       "      <td>NaN</td>\n",
       "      <td>NaN</td>\n",
       "      <td>NaN</td>\n",
       "      <td>NaN</td>\n",
       "      <td>NaN</td>\n",
       "      <td>NaN</td>\n",
       "      <td>NaN</td>\n",
       "      <td>NaN</td>\n",
       "      <td>NaN</td>\n",
       "      <td>NaN</td>\n",
       "      <td>NaN</td>\n",
       "      <td>NaN</td>\n",
       "      <td>NaN</td>\n",
       "      <td>NaN</td>\n",
       "      <td>NaN</td>\n",
       "      <td>NaN</td>\n",
       "      <td>NaN</td>\n",
       "    </tr>\n",
       "    <tr>\n",
       "      <th>1</th>\n",
       "      <td>2</td>\n",
       "      <td>9920751</td>\n",
       "      <td>2.291000e+09</td>\n",
       "      <td>55</td>\n",
       "      <td>2.0</td>\n",
       "      <td>2.0</td>\n",
       "      <td>2.0</td>\n",
       "      <td>2.0</td>\n",
       "      <td>2.0</td>\n",
       "      <td>2.0</td>\n",
       "      <td>2020-10-25</td>\n",
       "      <td>6</td>\n",
       "      <td>NaN</td>\n",
       "      <td>1.0</td>\n",
       "      <td>NaN</td>\n",
       "      <td>NaN</td>\n",
       "      <td>NaN</td>\n",
       "      <td>NaN</td>\n",
       "      <td>NaN</td>\n",
       "      <td>NaN</td>\n",
       "      <td>NaN</td>\n",
       "      <td>NaN</td>\n",
       "      <td>NaN</td>\n",
       "      <td>NaN</td>\n",
       "      <td>NaN</td>\n",
       "      <td>NaN</td>\n",
       "      <td>NaN</td>\n",
       "      <td>NaN</td>\n",
       "      <td>NaN</td>\n",
       "      <td>NaN</td>\n",
       "      <td>NaN</td>\n",
       "      <td>NaN</td>\n",
       "      <td>NaN</td>\n",
       "      <td>NaN</td>\n",
       "      <td>NaN</td>\n",
       "      <td>NaN</td>\n",
       "      <td>NaN</td>\n",
       "      <td>NaN</td>\n",
       "      <td>NaN</td>\n",
       "      <td>NaN</td>\n",
       "      <td>NaN</td>\n",
       "      <td>NaN</td>\n",
       "      <td>NaN</td>\n",
       "      <td>NaN</td>\n",
       "      <td>NaN</td>\n",
       "      <td>NaN</td>\n",
       "      <td>NaN</td>\n",
       "    </tr>\n",
       "    <tr>\n",
       "      <th>2</th>\n",
       "      <td>3</td>\n",
       "      <td>9923104</td>\n",
       "      <td>2.282587e+09</td>\n",
       "      <td>25</td>\n",
       "      <td>2.0</td>\n",
       "      <td>2.0</td>\n",
       "      <td>2.0</td>\n",
       "      <td>2.0</td>\n",
       "      <td>2.0</td>\n",
       "      <td>2.0</td>\n",
       "      <td>2020-11-28</td>\n",
       "      <td>5</td>\n",
       "      <td>2.0</td>\n",
       "      <td>1.0</td>\n",
       "      <td>NaN</td>\n",
       "      <td>NaN</td>\n",
       "      <td>NaN</td>\n",
       "      <td>NaN</td>\n",
       "      <td>NaN</td>\n",
       "      <td>NaN</td>\n",
       "      <td>NaN</td>\n",
       "      <td>NaN</td>\n",
       "      <td>NaN</td>\n",
       "      <td>NaN</td>\n",
       "      <td>NaN</td>\n",
       "      <td>NaN</td>\n",
       "      <td>NaN</td>\n",
       "      <td>NaN</td>\n",
       "      <td>NaN</td>\n",
       "      <td>NaN</td>\n",
       "      <td>NaN</td>\n",
       "      <td>NaN</td>\n",
       "      <td>NaN</td>\n",
       "      <td>NaN</td>\n",
       "      <td>NaN</td>\n",
       "      <td>NaN</td>\n",
       "      <td>NaN</td>\n",
       "      <td>NaN</td>\n",
       "      <td>NaN</td>\n",
       "      <td>NaN</td>\n",
       "      <td>NaN</td>\n",
       "      <td>NaN</td>\n",
       "      <td>NaN</td>\n",
       "      <td>NaN</td>\n",
       "      <td>NaN</td>\n",
       "      <td>NaN</td>\n",
       "      <td>NaN</td>\n",
       "    </tr>\n",
       "    <tr>\n",
       "      <th>3</th>\n",
       "      <td>4</td>\n",
       "      <td>9901484</td>\n",
       "      <td>5.480040e+09</td>\n",
       "      <td>29</td>\n",
       "      <td>2.0</td>\n",
       "      <td>2.0</td>\n",
       "      <td>2.0</td>\n",
       "      <td>2.0</td>\n",
       "      <td>2.0</td>\n",
       "      <td>2.0</td>\n",
       "      <td>2020-04-15</td>\n",
       "      <td>5</td>\n",
       "      <td>NaN</td>\n",
       "      <td>2.0</td>\n",
       "      <td>37.2</td>\n",
       "      <td>37.0</td>\n",
       "      <td>82.0</td>\n",
       "      <td>70.0</td>\n",
       "      <td>123.0</td>\n",
       "      <td>99.0</td>\n",
       "      <td>72.0</td>\n",
       "      <td>64.0</td>\n",
       "      <td>89.0</td>\n",
       "      <td>75.0</td>\n",
       "      <td>20.0</td>\n",
       "      <td>12.0</td>\n",
       "      <td>NaN</td>\n",
       "      <td>NaN</td>\n",
       "      <td>NaN</td>\n",
       "      <td>NaN</td>\n",
       "      <td>NaN</td>\n",
       "      <td>NaN</td>\n",
       "      <td>NaN</td>\n",
       "      <td>NaN</td>\n",
       "      <td>NaN</td>\n",
       "      <td>NaN</td>\n",
       "      <td>NaN</td>\n",
       "      <td>NaN</td>\n",
       "      <td>NaN</td>\n",
       "      <td>NaN</td>\n",
       "      <td>NaN</td>\n",
       "      <td>NaN</td>\n",
       "      <td>NaN</td>\n",
       "      <td>NaN</td>\n",
       "      <td>NaN</td>\n",
       "      <td>NaN</td>\n",
       "      <td>NaN</td>\n",
       "    </tr>\n",
       "    <tr>\n",
       "      <th>4</th>\n",
       "      <td>5</td>\n",
       "      <td>9903388</td>\n",
       "      <td>2.282541e+09</td>\n",
       "      <td>25</td>\n",
       "      <td>NaN</td>\n",
       "      <td>NaN</td>\n",
       "      <td>NaN</td>\n",
       "      <td>NaN</td>\n",
       "      <td>NaN</td>\n",
       "      <td>NaN</td>\n",
       "      <td>2020-05-08</td>\n",
       "      <td>3</td>\n",
       "      <td>2.0</td>\n",
       "      <td>2.0</td>\n",
       "      <td>38.0</td>\n",
       "      <td>37.7</td>\n",
       "      <td>99.0</td>\n",
       "      <td>71.0</td>\n",
       "      <td>139.0</td>\n",
       "      <td>122.0</td>\n",
       "      <td>93.0</td>\n",
       "      <td>87.0</td>\n",
       "      <td>108.0</td>\n",
       "      <td>98.0</td>\n",
       "      <td>18.0</td>\n",
       "      <td>16.0</td>\n",
       "      <td>NaN</td>\n",
       "      <td>NaN</td>\n",
       "      <td>NaN</td>\n",
       "      <td>NaN</td>\n",
       "      <td>NaN</td>\n",
       "      <td>NaN</td>\n",
       "      <td>NaN</td>\n",
       "      <td>NaN</td>\n",
       "      <td>NaN</td>\n",
       "      <td>NaN</td>\n",
       "      <td>NaN</td>\n",
       "      <td>NaN</td>\n",
       "      <td>NaN</td>\n",
       "      <td>NaN</td>\n",
       "      <td>NaN</td>\n",
       "      <td>NaN</td>\n",
       "      <td>NaN</td>\n",
       "      <td>NaN</td>\n",
       "      <td>NaN</td>\n",
       "      <td>NaN</td>\n",
       "      <td>NaN</td>\n",
       "    </tr>\n",
       "  </tbody>\n",
       "</table>\n",
       "</div>"
      ],
      "text/plain": [
       "   Row_Index  Patient_Identifier  National_Code  Age  Immune_Disease_1   \n",
       "0          1             9918788   5.489981e+09   35               2.0  \\\n",
       "1          2             9920751   2.291000e+09   55               2.0   \n",
       "2          3             9923104   2.282587e+09   25               2.0   \n",
       "3          4             9901484   5.480040e+09   29               2.0   \n",
       "4          5             9903388   2.282541e+09   25               NaN   \n",
       "\n",
       "   Immunosuppressed_1  Cirrhosis_Chronic_liver_failure_1   \n",
       "0                 2.0                                2.0  \\\n",
       "1                 2.0                                2.0   \n",
       "2                 2.0                                2.0   \n",
       "3                 2.0                                2.0   \n",
       "4                 NaN                                NaN   \n",
       "\n",
       "   Chronic_respiratory_1  Chronic_Cardiovascular_1  Chronic_Renal_failure_1   \n",
       "0                    2.0                       2.0                      2.0  \\\n",
       "1                    2.0                       2.0                      2.0   \n",
       "2                    2.0                       2.0                      2.0   \n",
       "3                    2.0                       2.0                      2.0   \n",
       "4                    NaN                       NaN                      NaN   \n",
       "\n",
       "  ICU_Admission_Date_1_1  ICU_Name_1_1  Elective_Surgery_1_1   \n",
       "0             2020-10-04             4                   2.0  \\\n",
       "1             2020-10-25             6                   NaN   \n",
       "2             2020-11-28             5                   2.0   \n",
       "3             2020-04-15             5                   NaN   \n",
       "4             2020-05-08             3                   2.0   \n",
       "\n",
       "   Diagnosis_Type_1_1  Core_Temperature_Hi_1_1  Core_Temperature_Low_1_1   \n",
       "0                 2.0                      NaN                       NaN  \\\n",
       "1                 1.0                      NaN                       NaN   \n",
       "2                 1.0                      NaN                       NaN   \n",
       "3                 2.0                     37.2                      37.0   \n",
       "4                 2.0                     38.0                      37.7   \n",
       "\n",
       "   Heart_Rate_Hi_1_1  Heart_Rate_Low_1_1  Systolic_Hi_1_1  Systolic_Low_1_1   \n",
       "0                NaN                 NaN              NaN               NaN  \\\n",
       "1                NaN                 NaN              NaN               NaN   \n",
       "2                NaN                 NaN              NaN               NaN   \n",
       "3               82.0                70.0            123.0              99.0   \n",
       "4               99.0                71.0            139.0             122.0   \n",
       "\n",
       "   Diastolic_Hi_1_1  Diastolic_Low_1_1  Mean_Arterial_Blood_Pressure_Hi_1_1   \n",
       "0               NaN                NaN                                  NaN  \\\n",
       "1               NaN                NaN                                  NaN   \n",
       "2               NaN                NaN                                  NaN   \n",
       "3              72.0               64.0                                 89.0   \n",
       "4              93.0               87.0                                108.0   \n",
       "\n",
       "   Mean_Arterial_Blood_Pressure_Low_1_1  Respiratory_Rate_Hi_1_1   \n",
       "0                                   NaN                      NaN  \\\n",
       "1                                   NaN                      NaN   \n",
       "2                                   NaN                      NaN   \n",
       "3                                  75.0                     20.0   \n",
       "4                                  98.0                     18.0   \n",
       "\n",
       "   Respiratory_Rate_Low_1_1  Sodium_Hi_1_1  Sodium_Low_1_1  Potassium_Hi_1_1   \n",
       "0                       NaN            NaN             NaN               NaN  \\\n",
       "1                       NaN            NaN             NaN               NaN   \n",
       "2                       NaN            NaN             NaN               NaN   \n",
       "3                      12.0            NaN             NaN               NaN   \n",
       "4                      16.0            NaN             NaN               NaN   \n",
       "\n",
       "   Potassium_Low_1_1  Bicarbonate_Hi_1_1  Bicarbonate_Low_1_1   \n",
       "0                NaN                 NaN                  NaN  \\\n",
       "1                NaN                 NaN                  NaN   \n",
       "2                NaN                 NaN                  NaN   \n",
       "3                NaN                 NaN                  NaN   \n",
       "4                NaN                 NaN                  NaN   \n",
       "\n",
       "   Creatinine_Hi_1_1  Creatinine_Low_1_1  Acute_Renal_Failure_Status_1_1   \n",
       "0                NaN                 NaN                             NaN  \\\n",
       "1                NaN                 NaN                             NaN   \n",
       "2                NaN                 NaN                             NaN   \n",
       "3                NaN                 NaN                             NaN   \n",
       "4                NaN                 NaN                             NaN   \n",
       "\n",
       "   Hematocrit_Hi_1_1  Hematocrit_Low_1_1  White_Blood_Cell_Count_Hi_1_1   \n",
       "0                NaN                 NaN                            NaN  \\\n",
       "1                NaN                 NaN                            NaN   \n",
       "2                NaN                 NaN                            NaN   \n",
       "3                NaN                 NaN                            NaN   \n",
       "4                NaN                 NaN                            NaN   \n",
       "\n",
       "   White_Blood_Cell_Count_Low_1_1  FiO2_1_1_1  paO2_1_1_1  paCO2_1_1_1   \n",
       "0                             NaN         NaN         NaN          NaN  \\\n",
       "1                             NaN         NaN         NaN          NaN   \n",
       "2                             NaN         NaN         NaN          NaN   \n",
       "3                             NaN         NaN         NaN          NaN   \n",
       "4                             NaN         NaN         NaN          NaN   \n",
       "\n",
       "   pH_1_1_1  GCS_Admission_Eye_1_1  GCS_Admission_Motor_1_1   \n",
       "0       NaN                    NaN                      NaN  \\\n",
       "1       NaN                    NaN                      NaN   \n",
       "2       NaN                    NaN                      NaN   \n",
       "3       NaN                    NaN                      NaN   \n",
       "4       NaN                    NaN                      NaN   \n",
       "\n",
       "   GCS_Admission_Verbal_1_1  GCS_Admission_Verbal_Intubated_1_1  \n",
       "0                       NaN                                 NaN  \n",
       "1                       NaN                                 NaN  \n",
       "2                       NaN                                 NaN  \n",
       "3                       NaN                                 NaN  \n",
       "4                       NaN                                 NaN  "
      ]
     },
     "execution_count": 2,
     "metadata": {},
     "output_type": "execute_result"
    }
   ],
   "source": [
    "pd.set_option(\"display.max_rows\", None)\n",
    "pd.set_option(\"display.max_columns\", None)\n",
    "pd.set_option(\"display.width\", None)\n",
    "\n",
    "apache_df = pd.read_excel(\"MDS APACH II D3.xlsx\")\n",
    "apache_df.head()"
   ]
  },
  {
   "cell_type": "markdown",
   "metadata": {},
   "source": [
    "**Calculate Chronic Health Evaluation Score**"
   ]
  },
  {
   "cell_type": "code",
   "execution_count": 3,
   "metadata": {},
   "outputs": [],
   "source": [
    "def calculate_chronic_health_evaluation_score(Immune_Disease_1, Immunosuppressed_1, Cirrhosis_Chronic_liver_failure_1, Chronic_respiratory_1, Chronic_Cardiovascular_1, Chronic_Renal_failure_1, Elective_Surgery_1_1, Diagnosis_Type_1_1):\n",
    "    if any(var == 1 for var in [Immune_Disease_1, Immunosuppressed_1, Cirrhosis_Chronic_liver_failure_1, Chronic_respiratory_1, Chronic_Cardiovascular_1, Chronic_Renal_failure_1]):\n",
    "        flag =  True\n",
    "    else:\n",
    "        flag = False\n",
    "        return 0\n",
    "    \n",
    "    if flag:\n",
    "        if Elective_Surgery_1_1 == 1 and Diagnosis_Type_1_1 == 2:\n",
    "            return 2\n",
    "        else:\n",
    "            return 5"
   ]
  },
  {
   "cell_type": "markdown",
   "metadata": {},
   "source": [
    "**Calculate Age Score**"
   ]
  },
  {
   "cell_type": "code",
   "execution_count": 4,
   "metadata": {},
   "outputs": [],
   "source": [
    "def calculate_age_score(Age):\n",
    "    if np.isnan(Age):\n",
    "        return 0\n",
    "    elif Age < 45:\n",
    "        return 0\n",
    "    elif 45 <= Age < 55:\n",
    "        return 2\n",
    "    elif 55 <= Age < 65:\n",
    "        return 3\n",
    "    elif 65 <= Age < 75:\n",
    "        return 5\n",
    "    else:\n",
    "        return 6"
   ]
  },
  {
   "cell_type": "markdown",
   "metadata": {},
   "source": [
    "**Calculate Temperature Score**"
   ]
  },
  {
   "cell_type": "code",
   "execution_count": 5,
   "metadata": {},
   "outputs": [],
   "source": [
    "def calculate_temperature_score(Core_Temperature):\n",
    "    if np.isnan(Core_Temperature):\n",
    "        return 0\n",
    "    elif Core_Temperature < 30:\n",
    "        return 4\n",
    "    elif 30 <= Core_Temperature < 32:\n",
    "        return 3\n",
    "    elif 32 <= Core_Temperature < 34:\n",
    "        return 2\n",
    "    elif 34 <= Core_Temperature < 36:\n",
    "        return 1\n",
    "    elif 36 <= Core_Temperature < 38.5:\n",
    "        return 0\n",
    "    elif 38.5 <= Core_Temperature < 39:\n",
    "        return 1\n",
    "    elif 39 <= Core_Temperature < 41:\n",
    "        return 3\n",
    "    elif 41 <= Core_Temperature:\n",
    "        return 4"
   ]
  },
  {
   "cell_type": "markdown",
   "metadata": {},
   "source": [
    "**Calculate Heart Rate Score**"
   ]
  },
  {
   "cell_type": "code",
   "execution_count": 6,
   "metadata": {},
   "outputs": [],
   "source": [
    "def calculate_heart_rate_score(Herat_Rate):\n",
    "    if np.isnan(Herat_Rate):\n",
    "        return 0\n",
    "    elif Herat_Rate < 40:\n",
    "        return 4\n",
    "    elif 40 <= Herat_Rate < 55:\n",
    "        return 3\n",
    "    elif 55 <= Herat_Rate < 70:\n",
    "        return 2\n",
    "    elif 70 <= Herat_Rate < 110:\n",
    "        return 0\n",
    "    elif 110 <= Herat_Rate < 140:\n",
    "        return 2\n",
    "    elif 140 <= Herat_Rate < 180:\n",
    "        return 3\n",
    "    elif 180 <= Herat_Rate:\n",
    "        return 4"
   ]
  },
  {
   "cell_type": "markdown",
   "metadata": {},
   "source": [
    "**Calculate Mean Arterial Blood Pressure Score**"
   ]
  },
  {
   "cell_type": "code",
   "execution_count": 7,
   "metadata": {},
   "outputs": [],
   "source": [
    "def calculate_mean_arterial_blood_pressure_score(Mean_Arterial_Blood_Pressure):\n",
    "    if np.isnan(Mean_Arterial_Blood_Pressure):\n",
    "        return 0\n",
    "    elif Mean_Arterial_Blood_Pressure < 50:\n",
    "        return 4\n",
    "    elif 50 <= Mean_Arterial_Blood_Pressure < 70:\n",
    "        return 2\n",
    "    elif 70 <= Mean_Arterial_Blood_Pressure < 110:\n",
    "        return 0\n",
    "    elif 110 <= Mean_Arterial_Blood_Pressure < 130:\n",
    "        return 2\n",
    "    elif 130 <= Mean_Arterial_Blood_Pressure < 160:\n",
    "        return 3\n",
    "    elif 160 <= Mean_Arterial_Blood_Pressure:\n",
    "        return 4"
   ]
  },
  {
   "cell_type": "markdown",
   "metadata": {},
   "source": [
    "**Calculate Respiratory Rate Score**"
   ]
  },
  {
   "cell_type": "code",
   "execution_count": 8,
   "metadata": {},
   "outputs": [],
   "source": [
    "def calculate_respiratory_rate_score(Respiratory_Rate):\n",
    "    if np.isnan(Respiratory_Rate):\n",
    "        return 0\n",
    "    elif Respiratory_Rate < 6:\n",
    "        return 4\n",
    "    elif 6 <= Respiratory_Rate < 10:\n",
    "        return 2\n",
    "    elif 10 <= Respiratory_Rate < 12:\n",
    "        return 1\n",
    "    elif 12 <= Respiratory_Rate < 25:\n",
    "        return 0\n",
    "    elif 25 <= Respiratory_Rate < 35:\n",
    "        return 1\n",
    "    elif 35 <= Respiratory_Rate < 50:\n",
    "        return 3\n",
    "    elif 50 <= Respiratory_Rate:\n",
    "        return 4"
   ]
  },
  {
   "cell_type": "markdown",
   "metadata": {},
   "source": [
    "**Calculate Sodium Score**"
   ]
  },
  {
   "cell_type": "code",
   "execution_count": 9,
   "metadata": {},
   "outputs": [],
   "source": [
    "def calculate_sodium_score(Sodium):\n",
    "    if np.isnan(Sodium):\n",
    "        return 0\n",
    "    elif Sodium < 111:\n",
    "        return 4\n",
    "    elif 111 <= Sodium < 120:\n",
    "        return 3\n",
    "    elif 120 <= Sodium < 130:\n",
    "        return 2\n",
    "    elif 130 <= Sodium < 150:\n",
    "        return 0\n",
    "    elif 150 <= Sodium < 155:\n",
    "        return 1\n",
    "    elif 155 <= Sodium < 160:\n",
    "        return 2\n",
    "    elif 160 <= Sodium < 180:\n",
    "        return 3\n",
    "    elif 180 <= Sodium:\n",
    "        return 4"
   ]
  },
  {
   "cell_type": "markdown",
   "metadata": {},
   "source": [
    "**Calculate Potassium Score**"
   ]
  },
  {
   "cell_type": "code",
   "execution_count": 10,
   "metadata": {},
   "outputs": [],
   "source": [
    "def calculate_potassium_score(Potassium):\n",
    "    if np.isnan(Potassium):\n",
    "        return 0\n",
    "    elif Potassium < 2.5:\n",
    "        return 4\n",
    "    elif 2.5 <= Potassium < 3:\n",
    "        return 2\n",
    "    elif 3 <= Potassium < 3.5:\n",
    "        return 1\n",
    "    elif 3.5 <= Potassium < 5.5:\n",
    "        return 0\n",
    "    elif 5.5 <= Potassium < 6:\n",
    "        return 1\n",
    "    elif 6 <= Potassium < 7:\n",
    "        return 3\n",
    "    elif 7 <= Potassium:\n",
    "        return 4"
   ]
  },
  {
   "cell_type": "markdown",
   "metadata": {},
   "source": [
    "**Calculate Bicarbonate Score**"
   ]
  },
  {
   "cell_type": "code",
   "execution_count": 11,
   "metadata": {},
   "outputs": [],
   "source": [
    "def calculate_bicarbonate_score(Bicarbonate):\n",
    "    if np.isnan(Bicarbonate):\n",
    "        return 0\n",
    "    elif Bicarbonate < 15:\n",
    "        return 4\n",
    "    elif 15 <= Bicarbonate < 18:\n",
    "        return 3\n",
    "    elif 18 <= Bicarbonate < 22:\n",
    "        return 2\n",
    "    elif 22 <= Bicarbonate < 32:\n",
    "        return 0\n",
    "    elif 32 <= Bicarbonate < 41:\n",
    "        return 1\n",
    "    elif 41 <= Bicarbonate < 52:\n",
    "        return 3\n",
    "    elif 52 <= Bicarbonate:\n",
    "        return 4"
   ]
  },
  {
   "cell_type": "markdown",
   "metadata": {},
   "source": [
    "**Calculate Creatinine Score**"
   ]
  },
  {
   "cell_type": "code",
   "execution_count": 12,
   "metadata": {},
   "outputs": [],
   "source": [
    "def calculate_creatinine_score(Creatinine):\n",
    "    if np.isnan(Creatinine):\n",
    "        return 0\n",
    "    elif Creatinine < 0.6:\n",
    "        return 2\n",
    "    elif 0.6 <= Creatinine < 1.5:\n",
    "        return 0\n",
    "    elif 1.5 <= Creatinine < 2:\n",
    "        return 2\n",
    "    elif 2 <= Creatinine <= 3.5:\n",
    "        return 3\n",
    "    elif 3.5 < Creatinine:\n",
    "        return 4"
   ]
  },
  {
   "cell_type": "markdown",
   "metadata": {},
   "source": [
    "**Calculate Hematocrit Score**"
   ]
  },
  {
   "cell_type": "code",
   "execution_count": 13,
   "metadata": {},
   "outputs": [],
   "source": [
    "def calculate_hematocrit_score(Hematocrit):\n",
    "    if np.isnan(Hematocrit):\n",
    "        return 0\n",
    "    elif Hematocrit*100 < 20:\n",
    "        return 4\n",
    "    elif 20 <= Hematocrit*100 < 30:\n",
    "        return 2\n",
    "    elif 30 <= Hematocrit*100 < 46:\n",
    "        return 0\n",
    "    elif 46 <= Hematocrit*100 < 50:\n",
    "        return 1\n",
    "    elif 50 <= Hematocrit*100 < 60:\n",
    "        return 2\n",
    "    elif 60 <= Hematocrit*100:\n",
    "        return 4"
   ]
  },
  {
   "cell_type": "markdown",
   "metadata": {},
   "source": [
    "**Calculate White Blood Cell Count Score**"
   ]
  },
  {
   "cell_type": "code",
   "execution_count": 14,
   "metadata": {},
   "outputs": [],
   "source": [
    "def calculate_white_blood_cell_count_score(White_Blood_Cell_Count):\n",
    "    if np.isnan(White_Blood_Cell_Count):\n",
    "        return 0\n",
    "    elif White_Blood_Cell_Count < 1:\n",
    "        return 4\n",
    "    elif 1 <= White_Blood_Cell_Count < 3:\n",
    "        return 2\n",
    "    elif 3 <= White_Blood_Cell_Count < 15:\n",
    "        return 0\n",
    "    elif 15 <= White_Blood_Cell_Count < 20:\n",
    "        return 1\n",
    "    elif 20 <= White_Blood_Cell_Count < 40:\n",
    "        return 2\n",
    "    elif 40 <= White_Blood_Cell_Count:\n",
    "        return 4"
   ]
  },
  {
   "cell_type": "markdown",
   "metadata": {},
   "source": [
    "**Calculate Arterial Blood Gases Score**"
   ]
  },
  {
   "cell_type": "code",
   "execution_count": 15,
   "metadata": {},
   "outputs": [],
   "source": [
    "def calculate_arterial_blood_gases_score(FiO2_1_1_1, paO2_1_1_1, paCO2_1_1_1):\n",
    "    if np.isnan(FiO2_1_1_1) or np.isnan(paO2_1_1_1):\n",
    "        return 0\n",
    "    \n",
    "    if FiO2_1_1_1 < 0.5:\n",
    "        if paO2_1_1_1 < 55:\n",
    "            return 4\n",
    "        elif 55 <= paO2_1_1_1 < 61:\n",
    "            return 3\n",
    "        elif 61 <= paO2_1_1_1 < 71:\n",
    "            return 1\n",
    "        elif 71 <= paO2_1_1_1:\n",
    "            return 0\n",
    "    elif FiO2_1_1_1 >= 0.5:\n",
    "        if np.isnan(paCO2_1_1_1):\n",
    "            return 0\n",
    "        A_a_gradient = (713 * FiO2_1_1_1) - paO2_1_1_1 - (paCO2_1_1_1 / 0.8)\n",
    "        if A_a_gradient < 200:\n",
    "            return 0\n",
    "        elif 200 <= A_a_gradient < 350:\n",
    "            return 2\n",
    "        elif 350 <= A_a_gradient < 500:\n",
    "            return 3\n",
    "        elif 500 <= A_a_gradient:\n",
    "            return 4"
   ]
  },
  {
   "cell_type": "markdown",
   "metadata": {},
   "source": [
    "**Calculate PH Score**"
   ]
  },
  {
   "cell_type": "code",
   "execution_count": 16,
   "metadata": {},
   "outputs": [],
   "source": [
    "def calculate_ph_score(PH):\n",
    "    if np.isnan(PH):\n",
    "        return 0\n",
    "    elif PH < 7.15:\n",
    "        return 4\n",
    "    elif 7.15 <= PH < 7.25:\n",
    "        return 3\n",
    "    elif 7.25 <= PH < 7.33:\n",
    "        return 2\n",
    "    elif 7.33 <= PH < 7.5:\n",
    "        return 0\n",
    "    elif 7.5 <= PH < 7.6:\n",
    "        return 1\n",
    "    elif 7.6 <= PH < 7.7:\n",
    "        return 3\n",
    "    elif 7.7 <= PH:\n",
    "        return 4"
   ]
  },
  {
   "cell_type": "markdown",
   "metadata": {},
   "source": [
    "**Calculate GCS Score**"
   ]
  },
  {
   "cell_type": "code",
   "execution_count": 17,
   "metadata": {},
   "outputs": [],
   "source": [
    "def calculate_gcs_score(GCS_Admission_Eye_1_1, GCS_Admission_Motor_1_1, GCS_Admission_Verbal_1_1, GCS_Admission_Verbal_Intubated_1_1):\n",
    "    if math.isnan(GCS_Admission_Eye_1_1):\n",
    "        GCS_Admission_Eye_1_1 = 0\n",
    "    if math.isnan(GCS_Admission_Motor_1_1):\n",
    "        GCS_Admission_Motor_1_1 = 0\n",
    "    if math.isnan(GCS_Admission_Verbal_1_1):\n",
    "        GCS_Admission_Verbal_1_1 = 0\n",
    "    if math.isnan(GCS_Admission_Verbal_Intubated_1_1):\n",
    "        GCS_Admission_Verbal_Intubated_1_1 = 0\n",
    "        \n",
    "    final_score = 15 - (GCS_Admission_Eye_1_1 + GCS_Admission_Motor_1_1 + GCS_Admission_Verbal_1_1 + GCS_Admission_Verbal_Intubated_1_1)\n",
    "    if final_score == 15:\n",
    "        final_score = 0\n",
    "    return final_score"
   ]
  },
  {
   "cell_type": "markdown",
   "metadata": {},
   "source": [
    "**Calculate Estimated Postoperative Mortality Score**"
   ]
  },
  {
   "cell_type": "code",
   "execution_count": 18,
   "metadata": {},
   "outputs": [],
   "source": [
    "def calculate_estimated_postoperative_mortality_score(Apache_II_Score):\n",
    "    if 0 <= Apache_II_Score < 5:\n",
    "        return \"1%\"\n",
    "    elif 5 <= Apache_II_Score < 10:\n",
    "        return \"3%\"\n",
    "    elif 10 <= Apache_II_Score < 15:\n",
    "        return \"7%\"\n",
    "    elif 15 <= Apache_II_Score < 20:\n",
    "        return \"12%\"\n",
    "    elif 20 <= Apache_II_Score < 25:\n",
    "        return \"30%\"\n",
    "    elif 25 <= Apache_II_Score < 30:\n",
    "        return \"35%\"\n",
    "    elif 30 <= Apache_II_Score < 35:\n",
    "        return \"73%\"\n",
    "    elif 35 <= Apache_II_Score:\n",
    "        return \"88%\""
   ]
  },
  {
   "cell_type": "markdown",
   "metadata": {},
   "source": [
    "**Calculate Estimated Nonoperative Mortality Score**"
   ]
  },
  {
   "cell_type": "code",
   "execution_count": 19,
   "metadata": {},
   "outputs": [],
   "source": [
    "def calculate_estimated_nonoperative_mortality_score(Apache_II_Score):\n",
    "    if 0 <= Apache_II_Score < 5:\n",
    "        return \"4%\"\n",
    "    elif 5 <= Apache_II_Score < 10:\n",
    "        return \"8%\"\n",
    "    elif 10 <= Apache_II_Score < 15:\n",
    "        return \"15%\"\n",
    "    elif 15 <= Apache_II_Score < 20:\n",
    "        return \"25%\"\n",
    "    elif 20 <= Apache_II_Score < 25:\n",
    "        return \"40%\"\n",
    "    elif 25 <= Apache_II_Score < 30:\n",
    "        return \"55%\"\n",
    "    elif 30 <= Apache_II_Score < 35:\n",
    "        return \"73%\"\n",
    "    elif 35 <= Apache_II_Score:\n",
    "        return \"85%\""
   ]
  },
  {
   "cell_type": "markdown",
   "metadata": {},
   "source": [
    "**Reading each row to get each patients records and calculate Apache II score**"
   ]
  },
  {
   "cell_type": "code",
   "execution_count": 20,
   "metadata": {},
   "outputs": [],
   "source": [
    "rows_list = apache_df.values.tolist()\n",
    "Apache_II_List, Postoperative, Nonoperative = [], [], []\n",
    "for patient in rows_list:\n",
    "    Final_Apache_II_Score = 0\n",
    "    Age_score = calculate_age_score(patient[3])\n",
    "    Chronic_Health_Evaluation_score = calculate_chronic_health_evaluation_score(patient[4], patient[5], patient[6], patient[7], patient[8], patient[9], patient[12], patient[13])    \n",
    "    Temperature_score = max(calculate_temperature_score(patient[14]), calculate_temperature_score(patient[15]))\n",
    "    Heart_Rate_score = max(calculate_heart_rate_score(patient[16]), calculate_heart_rate_score(patient[17]))\n",
    "    Mean_Arterial_Blood_Pressure_score = max(calculate_mean_arterial_blood_pressure_score(patient[22]), calculate_mean_arterial_blood_pressure_score(patient[23]))\n",
    "    Respiratory_Rate_score = max(calculate_respiratory_rate_score(patient[24]), calculate_respiratory_rate_score(patient[25]))\n",
    "    Sodium_score = max(calculate_sodium_score(patient[26]), calculate_sodium_score(patient[27]))\n",
    "    Potassium_score = max(calculate_potassium_score(patient[28]), calculate_potassium_score(patient[29]))\n",
    "    Bicarbonate_score = max(calculate_bicarbonate_score(patient[30]), calculate_bicarbonate_score(patient[31]))\n",
    "    Creatinine_score = max(calculate_creatinine_score(patient[32]), calculate_creatinine_score(patient[33]))\n",
    "\n",
    "    #Checking status of Acute_Renal_Failure_Status_1_1\n",
    "    if patient[34] == 1:\n",
    "        Creatinine_score *= 2\n",
    "\n",
    "    Hematocrit_score = max(calculate_hematocrit_score(patient[35]), calculate_hematocrit_score(patient[36]))\n",
    "    White_Blood_Cell_Count_score = max(calculate_white_blood_cell_count_score(patient[37]), calculate_white_blood_cell_count_score(patient[38]))\n",
    "    Arterial_Blood_Gases_score = calculate_arterial_blood_gases_score(patient[39], patient[40], patient[41])\n",
    "    PH_score = calculate_ph_score(patient[42])\n",
    "    GCS_score = calculate_gcs_score(patient[43], patient[44], patient[45], patient[46])\n",
    "\n",
    "    #Finding percentage of missing data for a patient\n",
    "    nan_indices = [(3,), (14, 15), (16, 17), (22, 23), (24, 25), (26, 27), (28, 29), (30, 31), (32, 33), (35, 36), (37, 38), (39, 40, 41), (42,), (43, 44, 45, 46)]\n",
    "    nan_counter = sum(all(np.isnan(patient[i]) for i in indices) for indices in nan_indices)\n",
    "    missed_data = (nan_counter / len(nan_indices)) * 100\n",
    "    \n",
    "    if missed_data <= 20:\n",
    "        Final_Apache_II_Score += Age_score + Chronic_Health_Evaluation_score + Temperature_score + Heart_Rate_score + Mean_Arterial_Blood_Pressure_score + Respiratory_Rate_score + Sodium_score + Potassium_score + Bicarbonate_score + Creatinine_score + Hematocrit_score + White_Blood_Cell_Count_score + Arterial_Blood_Gases_score + PH_score + GCS_score\n",
    "        Apache_II_List += [Final_Apache_II_Score]\n",
    "        Postoperative += [calculate_estimated_postoperative_mortality_score(Final_Apache_II_Score)]\n",
    "        Nonoperative += [calculate_estimated_nonoperative_mortality_score(Final_Apache_II_Score)]\n",
    "    else:\n",
    "        Apache_II_List += [\"Not Enough Data!\"]\n",
    "        Postoperative += [\"-\"]\n",
    "        Nonoperative += [\"-\"]\n",
    "\n",
    "apache_df[\"APACHE II Score\"] = Apache_II_List\n",
    "apache_df[\"Estimated Postoperative Mortality\"] = Postoperative\n",
    "apache_df[\"Estimated Nonoperative Mortality\"] = Nonoperative\n",
    "apache_df.to_excel(\"Output_Apache_II_Score.xlsx\", index = False)"
   ]
  },
  {
   "cell_type": "markdown",
   "metadata": {},
   "source": [
    "**Histogram based on APACHE II Score**"
   ]
  },
  {
   "cell_type": "code",
   "execution_count": 21,
   "metadata": {},
   "outputs": [
    {
     "name": "stdout",
     "output_type": "stream",
     "text": [
      "Initial number of rows: 200\n",
      "Number of rows after removing rows: 180\n"
     ]
    },
    {
     "data": {
      "application/vnd.plotly.v1+json": {
       "config": {
        "plotlyServerURL": "https://plot.ly"
       },
       "data": [
        {
         "alignmentgroup": "True",
         "bingroup": "x",
         "hovertemplate": "APACHE II Score=%{x}<br>count=%{y}<extra></extra>",
         "legendgroup": "",
         "marker": {
          "color": "#636efa",
          "line": {
           "color": "black",
           "width": 1
          },
          "pattern": {
           "shape": ""
          }
         },
         "name": "",
         "nbinsx": 20,
         "offsetgroup": "",
         "opacity": 0.7,
         "orientation": "v",
         "showlegend": false,
         "type": "histogram",
         "x": [
          6,
          12,
          14,
          9,
          10,
          6,
          12,
          16,
          26,
          13,
          14,
          6,
          18,
          20,
          20,
          18,
          17,
          12,
          25,
          10,
          44,
          10,
          3,
          19,
          19,
          24,
          12,
          22,
          15,
          7,
          27,
          26,
          9,
          28,
          8,
          13,
          13,
          13,
          40,
          15,
          15,
          6,
          20,
          27,
          20,
          10,
          23,
          14,
          15,
          12,
          11,
          21,
          17,
          4,
          16,
          5,
          12,
          15,
          16,
          10,
          10,
          30,
          17,
          31,
          15,
          17,
          14,
          17,
          17,
          12,
          30,
          16,
          13,
          10,
          4,
          11,
          13,
          17,
          25,
          12,
          21,
          25,
          19,
          18,
          17,
          20,
          17,
          14,
          11,
          11,
          25,
          13,
          15,
          6,
          7,
          12,
          12,
          12,
          23,
          23,
          7,
          12,
          12,
          21,
          11,
          19,
          6,
          28,
          7,
          9,
          13,
          20,
          15,
          29,
          18,
          21,
          11,
          10,
          11,
          8,
          8,
          6,
          10,
          25,
          17,
          15,
          28,
          20,
          24,
          20,
          9,
          16,
          13,
          19,
          5,
          13,
          20,
          10,
          10,
          8,
          20,
          21,
          15,
          10,
          8,
          22,
          20,
          13,
          12,
          5,
          4,
          13,
          10,
          13,
          18,
          9,
          2,
          13,
          8,
          12,
          14,
          13,
          4,
          8,
          15,
          18,
          16,
          19,
          17,
          14,
          22,
          3,
          8,
          20,
          7,
          30,
          39,
          16,
          11,
          13
         ],
         "xaxis": "x",
         "yaxis": "y"
        }
       ],
       "layout": {
        "barmode": "relative",
        "legend": {
         "tracegroupgap": 0
        },
        "margin": {
         "t": 60
        },
        "template": {
         "data": {
          "bar": [
           {
            "error_x": {
             "color": "#2a3f5f"
            },
            "error_y": {
             "color": "#2a3f5f"
            },
            "marker": {
             "line": {
              "color": "#E5ECF6",
              "width": 0.5
             },
             "pattern": {
              "fillmode": "overlay",
              "size": 10,
              "solidity": 0.2
             }
            },
            "type": "bar"
           }
          ],
          "barpolar": [
           {
            "marker": {
             "line": {
              "color": "#E5ECF6",
              "width": 0.5
             },
             "pattern": {
              "fillmode": "overlay",
              "size": 10,
              "solidity": 0.2
             }
            },
            "type": "barpolar"
           }
          ],
          "carpet": [
           {
            "aaxis": {
             "endlinecolor": "#2a3f5f",
             "gridcolor": "white",
             "linecolor": "white",
             "minorgridcolor": "white",
             "startlinecolor": "#2a3f5f"
            },
            "baxis": {
             "endlinecolor": "#2a3f5f",
             "gridcolor": "white",
             "linecolor": "white",
             "minorgridcolor": "white",
             "startlinecolor": "#2a3f5f"
            },
            "type": "carpet"
           }
          ],
          "choropleth": [
           {
            "colorbar": {
             "outlinewidth": 0,
             "ticks": ""
            },
            "type": "choropleth"
           }
          ],
          "contour": [
           {
            "colorbar": {
             "outlinewidth": 0,
             "ticks": ""
            },
            "colorscale": [
             [
              0,
              "#0d0887"
             ],
             [
              0.1111111111111111,
              "#46039f"
             ],
             [
              0.2222222222222222,
              "#7201a8"
             ],
             [
              0.3333333333333333,
              "#9c179e"
             ],
             [
              0.4444444444444444,
              "#bd3786"
             ],
             [
              0.5555555555555556,
              "#d8576b"
             ],
             [
              0.6666666666666666,
              "#ed7953"
             ],
             [
              0.7777777777777778,
              "#fb9f3a"
             ],
             [
              0.8888888888888888,
              "#fdca26"
             ],
             [
              1,
              "#f0f921"
             ]
            ],
            "type": "contour"
           }
          ],
          "contourcarpet": [
           {
            "colorbar": {
             "outlinewidth": 0,
             "ticks": ""
            },
            "type": "contourcarpet"
           }
          ],
          "heatmap": [
           {
            "colorbar": {
             "outlinewidth": 0,
             "ticks": ""
            },
            "colorscale": [
             [
              0,
              "#0d0887"
             ],
             [
              0.1111111111111111,
              "#46039f"
             ],
             [
              0.2222222222222222,
              "#7201a8"
             ],
             [
              0.3333333333333333,
              "#9c179e"
             ],
             [
              0.4444444444444444,
              "#bd3786"
             ],
             [
              0.5555555555555556,
              "#d8576b"
             ],
             [
              0.6666666666666666,
              "#ed7953"
             ],
             [
              0.7777777777777778,
              "#fb9f3a"
             ],
             [
              0.8888888888888888,
              "#fdca26"
             ],
             [
              1,
              "#f0f921"
             ]
            ],
            "type": "heatmap"
           }
          ],
          "heatmapgl": [
           {
            "colorbar": {
             "outlinewidth": 0,
             "ticks": ""
            },
            "colorscale": [
             [
              0,
              "#0d0887"
             ],
             [
              0.1111111111111111,
              "#46039f"
             ],
             [
              0.2222222222222222,
              "#7201a8"
             ],
             [
              0.3333333333333333,
              "#9c179e"
             ],
             [
              0.4444444444444444,
              "#bd3786"
             ],
             [
              0.5555555555555556,
              "#d8576b"
             ],
             [
              0.6666666666666666,
              "#ed7953"
             ],
             [
              0.7777777777777778,
              "#fb9f3a"
             ],
             [
              0.8888888888888888,
              "#fdca26"
             ],
             [
              1,
              "#f0f921"
             ]
            ],
            "type": "heatmapgl"
           }
          ],
          "histogram": [
           {
            "marker": {
             "pattern": {
              "fillmode": "overlay",
              "size": 10,
              "solidity": 0.2
             }
            },
            "type": "histogram"
           }
          ],
          "histogram2d": [
           {
            "colorbar": {
             "outlinewidth": 0,
             "ticks": ""
            },
            "colorscale": [
             [
              0,
              "#0d0887"
             ],
             [
              0.1111111111111111,
              "#46039f"
             ],
             [
              0.2222222222222222,
              "#7201a8"
             ],
             [
              0.3333333333333333,
              "#9c179e"
             ],
             [
              0.4444444444444444,
              "#bd3786"
             ],
             [
              0.5555555555555556,
              "#d8576b"
             ],
             [
              0.6666666666666666,
              "#ed7953"
             ],
             [
              0.7777777777777778,
              "#fb9f3a"
             ],
             [
              0.8888888888888888,
              "#fdca26"
             ],
             [
              1,
              "#f0f921"
             ]
            ],
            "type": "histogram2d"
           }
          ],
          "histogram2dcontour": [
           {
            "colorbar": {
             "outlinewidth": 0,
             "ticks": ""
            },
            "colorscale": [
             [
              0,
              "#0d0887"
             ],
             [
              0.1111111111111111,
              "#46039f"
             ],
             [
              0.2222222222222222,
              "#7201a8"
             ],
             [
              0.3333333333333333,
              "#9c179e"
             ],
             [
              0.4444444444444444,
              "#bd3786"
             ],
             [
              0.5555555555555556,
              "#d8576b"
             ],
             [
              0.6666666666666666,
              "#ed7953"
             ],
             [
              0.7777777777777778,
              "#fb9f3a"
             ],
             [
              0.8888888888888888,
              "#fdca26"
             ],
             [
              1,
              "#f0f921"
             ]
            ],
            "type": "histogram2dcontour"
           }
          ],
          "mesh3d": [
           {
            "colorbar": {
             "outlinewidth": 0,
             "ticks": ""
            },
            "type": "mesh3d"
           }
          ],
          "parcoords": [
           {
            "line": {
             "colorbar": {
              "outlinewidth": 0,
              "ticks": ""
             }
            },
            "type": "parcoords"
           }
          ],
          "pie": [
           {
            "automargin": true,
            "type": "pie"
           }
          ],
          "scatter": [
           {
            "fillpattern": {
             "fillmode": "overlay",
             "size": 10,
             "solidity": 0.2
            },
            "type": "scatter"
           }
          ],
          "scatter3d": [
           {
            "line": {
             "colorbar": {
              "outlinewidth": 0,
              "ticks": ""
             }
            },
            "marker": {
             "colorbar": {
              "outlinewidth": 0,
              "ticks": ""
             }
            },
            "type": "scatter3d"
           }
          ],
          "scattercarpet": [
           {
            "marker": {
             "colorbar": {
              "outlinewidth": 0,
              "ticks": ""
             }
            },
            "type": "scattercarpet"
           }
          ],
          "scattergeo": [
           {
            "marker": {
             "colorbar": {
              "outlinewidth": 0,
              "ticks": ""
             }
            },
            "type": "scattergeo"
           }
          ],
          "scattergl": [
           {
            "marker": {
             "colorbar": {
              "outlinewidth": 0,
              "ticks": ""
             }
            },
            "type": "scattergl"
           }
          ],
          "scattermapbox": [
           {
            "marker": {
             "colorbar": {
              "outlinewidth": 0,
              "ticks": ""
             }
            },
            "type": "scattermapbox"
           }
          ],
          "scatterpolar": [
           {
            "marker": {
             "colorbar": {
              "outlinewidth": 0,
              "ticks": ""
             }
            },
            "type": "scatterpolar"
           }
          ],
          "scatterpolargl": [
           {
            "marker": {
             "colorbar": {
              "outlinewidth": 0,
              "ticks": ""
             }
            },
            "type": "scatterpolargl"
           }
          ],
          "scatterternary": [
           {
            "marker": {
             "colorbar": {
              "outlinewidth": 0,
              "ticks": ""
             }
            },
            "type": "scatterternary"
           }
          ],
          "surface": [
           {
            "colorbar": {
             "outlinewidth": 0,
             "ticks": ""
            },
            "colorscale": [
             [
              0,
              "#0d0887"
             ],
             [
              0.1111111111111111,
              "#46039f"
             ],
             [
              0.2222222222222222,
              "#7201a8"
             ],
             [
              0.3333333333333333,
              "#9c179e"
             ],
             [
              0.4444444444444444,
              "#bd3786"
             ],
             [
              0.5555555555555556,
              "#d8576b"
             ],
             [
              0.6666666666666666,
              "#ed7953"
             ],
             [
              0.7777777777777778,
              "#fb9f3a"
             ],
             [
              0.8888888888888888,
              "#fdca26"
             ],
             [
              1,
              "#f0f921"
             ]
            ],
            "type": "surface"
           }
          ],
          "table": [
           {
            "cells": {
             "fill": {
              "color": "#EBF0F8"
             },
             "line": {
              "color": "white"
             }
            },
            "header": {
             "fill": {
              "color": "#C8D4E3"
             },
             "line": {
              "color": "white"
             }
            },
            "type": "table"
           }
          ]
         },
         "layout": {
          "annotationdefaults": {
           "arrowcolor": "#2a3f5f",
           "arrowhead": 0,
           "arrowwidth": 1
          },
          "autotypenumbers": "strict",
          "coloraxis": {
           "colorbar": {
            "outlinewidth": 0,
            "ticks": ""
           }
          },
          "colorscale": {
           "diverging": [
            [
             0,
             "#8e0152"
            ],
            [
             0.1,
             "#c51b7d"
            ],
            [
             0.2,
             "#de77ae"
            ],
            [
             0.3,
             "#f1b6da"
            ],
            [
             0.4,
             "#fde0ef"
            ],
            [
             0.5,
             "#f7f7f7"
            ],
            [
             0.6,
             "#e6f5d0"
            ],
            [
             0.7,
             "#b8e186"
            ],
            [
             0.8,
             "#7fbc41"
            ],
            [
             0.9,
             "#4d9221"
            ],
            [
             1,
             "#276419"
            ]
           ],
           "sequential": [
            [
             0,
             "#0d0887"
            ],
            [
             0.1111111111111111,
             "#46039f"
            ],
            [
             0.2222222222222222,
             "#7201a8"
            ],
            [
             0.3333333333333333,
             "#9c179e"
            ],
            [
             0.4444444444444444,
             "#bd3786"
            ],
            [
             0.5555555555555556,
             "#d8576b"
            ],
            [
             0.6666666666666666,
             "#ed7953"
            ],
            [
             0.7777777777777778,
             "#fb9f3a"
            ],
            [
             0.8888888888888888,
             "#fdca26"
            ],
            [
             1,
             "#f0f921"
            ]
           ],
           "sequentialminus": [
            [
             0,
             "#0d0887"
            ],
            [
             0.1111111111111111,
             "#46039f"
            ],
            [
             0.2222222222222222,
             "#7201a8"
            ],
            [
             0.3333333333333333,
             "#9c179e"
            ],
            [
             0.4444444444444444,
             "#bd3786"
            ],
            [
             0.5555555555555556,
             "#d8576b"
            ],
            [
             0.6666666666666666,
             "#ed7953"
            ],
            [
             0.7777777777777778,
             "#fb9f3a"
            ],
            [
             0.8888888888888888,
             "#fdca26"
            ],
            [
             1,
             "#f0f921"
            ]
           ]
          },
          "colorway": [
           "#636efa",
           "#EF553B",
           "#00cc96",
           "#ab63fa",
           "#FFA15A",
           "#19d3f3",
           "#FF6692",
           "#B6E880",
           "#FF97FF",
           "#FECB52"
          ],
          "font": {
           "color": "#2a3f5f"
          },
          "geo": {
           "bgcolor": "white",
           "lakecolor": "white",
           "landcolor": "#E5ECF6",
           "showlakes": true,
           "showland": true,
           "subunitcolor": "white"
          },
          "hoverlabel": {
           "align": "left"
          },
          "hovermode": "closest",
          "mapbox": {
           "style": "light"
          },
          "paper_bgcolor": "white",
          "plot_bgcolor": "#E5ECF6",
          "polar": {
           "angularaxis": {
            "gridcolor": "white",
            "linecolor": "white",
            "ticks": ""
           },
           "bgcolor": "#E5ECF6",
           "radialaxis": {
            "gridcolor": "white",
            "linecolor": "white",
            "ticks": ""
           }
          },
          "scene": {
           "xaxis": {
            "backgroundcolor": "#E5ECF6",
            "gridcolor": "white",
            "gridwidth": 2,
            "linecolor": "white",
            "showbackground": true,
            "ticks": "",
            "zerolinecolor": "white"
           },
           "yaxis": {
            "backgroundcolor": "#E5ECF6",
            "gridcolor": "white",
            "gridwidth": 2,
            "linecolor": "white",
            "showbackground": true,
            "ticks": "",
            "zerolinecolor": "white"
           },
           "zaxis": {
            "backgroundcolor": "#E5ECF6",
            "gridcolor": "white",
            "gridwidth": 2,
            "linecolor": "white",
            "showbackground": true,
            "ticks": "",
            "zerolinecolor": "white"
           }
          },
          "shapedefaults": {
           "line": {
            "color": "#2a3f5f"
           }
          },
          "ternary": {
           "aaxis": {
            "gridcolor": "white",
            "linecolor": "white",
            "ticks": ""
           },
           "baxis": {
            "gridcolor": "white",
            "linecolor": "white",
            "ticks": ""
           },
           "bgcolor": "#E5ECF6",
           "caxis": {
            "gridcolor": "white",
            "linecolor": "white",
            "ticks": ""
           }
          },
          "title": {
           "x": 0.05
          },
          "xaxis": {
           "automargin": true,
           "gridcolor": "white",
           "linecolor": "white",
           "ticks": "",
           "title": {
            "standoff": 15
           },
           "zerolinecolor": "white",
           "zerolinewidth": 2
          },
          "yaxis": {
           "automargin": true,
           "gridcolor": "white",
           "linecolor": "white",
           "ticks": "",
           "title": {
            "standoff": 15
           },
           "zerolinecolor": "white",
           "zerolinewidth": 2
          }
         }
        },
        "title": {
         "text": "<b>APACHE II Score Histogram</b>",
         "x": 0.5,
         "xanchor": "center",
         "y": 0.95,
         "yanchor": "top"
        },
        "xaxis": {
         "anchor": "y",
         "domain": [
          0,
          1
         ],
         "title": {
          "text": "APACHE II Score"
         }
        },
        "yaxis": {
         "anchor": "x",
         "domain": [
          0,
          1
         ],
         "title": {
          "text": "Number of Patients"
         }
        }
       }
      }
     },
     "metadata": {},
     "output_type": "display_data"
    }
   ],
   "source": [
    "apache_df_copy = apache_df.copy()\n",
    "print(\"Initial number of rows:\", len(apache_df_copy))\n",
    "apache_df_copy = apache_df_copy[apache_df_copy[\"Estimated Postoperative Mortality\"] != \"-\"]\n",
    "print(\"Number of rows after removing rows:\", len(apache_df_copy))\n",
    "\n",
    "fig = px.histogram(apache_df_copy, x = \"APACHE II Score\", nbins = 20)\n",
    "fig.update_traces(marker_line_color = \"black\", marker_line_width = 1, opacity = 0.7)\n",
    "fig.update_layout(yaxis_title = \"Number of Patients\")\n",
    "fig.update_layout(title = {\"text\" : \"<b>APACHE II Score Histogram</b>\", \"x\" : 0.5, \"y\" : 0.95, \"xanchor\" : \"center\", \"yanchor\" : \"top\"})\n",
    "fig.show()"
   ]
  }
 ],
 "metadata": {
  "kernelspec": {
   "display_name": "qenv",
   "language": "python",
   "name": "qenv"
  },
  "language_info": {
   "codemirror_mode": {
    "name": "ipython",
    "version": 3
   },
   "file_extension": ".py",
   "mimetype": "text/x-python",
   "name": "python",
   "nbconvert_exporter": "python",
   "pygments_lexer": "ipython3",
   "version": "3.9.6"
  },
  "orig_nbformat": 4
 },
 "nbformat": 4,
 "nbformat_minor": 2
}
